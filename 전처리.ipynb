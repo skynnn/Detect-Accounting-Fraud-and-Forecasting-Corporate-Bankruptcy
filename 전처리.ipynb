{
 "cells": [
  {
   "cell_type": "code",
   "execution_count": 1,
   "metadata": {},
   "outputs": [],
   "source": [
    "import pandas as pd\n",
    "import numpy as np\n",
    "pd.options.display.float_format = '{:.5f}'.format\n",
    "\n",
    "import matplotlib.pyplot as plt\n",
    "import seaborn as sns\n",
    "from sklearn.preprocessing import StandardScaler, MinMaxScaler, RobustScaler\n",
    "from scipy.stats.mstats import winsorize\n",
    "from matplotlib import font_manager, rc\n",
    "font_path = \"C:/Windows/Fonts/malgun.ttf\"\n",
    "font = font_manager.FontProperties(fname=font_path).get_name()\n",
    "rc('font', family=font)\n",
    "import warnings\n",
    "warnings.filterwarnings(action = 'ignore')"
   ]
  },
  {
   "cell_type": "markdown",
   "metadata": {},
   "source": [
    "#### 데이터셋 불러오기"
   ]
  },
  {
   "cell_type": "code",
   "execution_count": 2,
   "metadata": {},
   "outputs": [],
   "source": [
    "kosdaq1 = pd.read_csv('./dataset/KOSDAQ_연결.csv', encoding='utf-8')\n",
    "kosdaq2 = pd.read_csv('./dataset/KOSDAQ_개별.csv', encoding='utf-8')\n",
    "\n",
    "kosdaq = pd.merge(kosdaq1, kosdaq2, on=['회사명', '거래소코드', '회계년도'])\n",
    "\n",
    "kosdaq1['거래소코드'] = kosdaq1['거래소코드'].astype(str).str.zfill(6)\n",
    "kosdaq2['거래소코드'] = kosdaq2['거래소코드'].astype(str).str.zfill(6)\n",
    "kosdaq['거래소코드'] = kosdaq['거래소코드'].astype(str).str.zfill(6)"
   ]
  },
  {
   "cell_type": "code",
   "execution_count": 3,
   "metadata": {},
   "outputs": [],
   "source": [
    "kospi1 = pd.read_csv('./dataset/KOSPI_연결.csv', encoding='utf-8')\n",
    "kospi2 = pd.read_csv('./dataset/KOSPI_개별.csv', encoding='utf-8')\n",
    "\n",
    "kospi = pd.merge(kospi1, kospi2, on=['회사명', '거래소코드', '회계년도'])\n",
    "\n",
    "kospi1['거래소코드'] = kospi1['거래소코드'].astype(str).str.zfill(6)\n",
    "kospi2['거래소코드'] = kospi2['거래소코드'].astype(str).str.zfill(6)\n",
    "kospi['거래소코드'] = kospi['거래소코드'].astype(str).str.zfill(6)"
   ]
  },
  {
   "cell_type": "code",
   "execution_count": 4,
   "metadata": {},
   "outputs": [],
   "source": [
    "kosdaq_bankruptcy = pd.read_csv('./dataset/KOSDAQ_부실.csv', encoding='utf-8')\n",
    "kospi_bankruptcy = pd.read_csv('./dataset/KOSPI_부실.csv', encoding='utf-8')\n",
    "\n",
    "kosdaq_bankruptcy['거래소코드'] = kosdaq_bankruptcy['거래소코드'].astype(str).str.zfill(6)\n",
    "kospi_bankruptcy['거래소코드'] = kospi_bankruptcy['거래소코드'].astype(str).str.zfill(6)"
   ]
  },
  {
   "cell_type": "markdown",
   "metadata": {},
   "source": [
    "#### 회사, 거래소코드 확인"
   ]
  },
  {
   "cell_type": "markdown",
   "metadata": {},
   "source": [
    "- 같은 회사명에 거래소 코드 여러개\n",
    "- 같은 거래소 코드에 회사명 여러개"
   ]
  },
  {
   "cell_type": "code",
   "execution_count": 5,
   "metadata": {},
   "outputs": [
    {
     "name": "stdout",
     "output_type": "stream",
     "text": [
      "코스닥\n",
      "회사 1727\n",
      "코드 1745\n",
      "\n",
      "코스피\n",
      "회사 812\n",
      "코드 815\n"
     ]
    }
   ],
   "source": [
    "print('코스닥')\n",
    "print('회사', len(kosdaq['회사명'].unique()))\n",
    "print('코드', len(kosdaq['거래소코드'].unique()))\n",
    "print('\\n코스피')\n",
    "print('회사', len(kospi['회사명'].unique()))\n",
    "print('코드', len(kospi['거래소코드'].unique()))"
   ]
  },
  {
   "cell_type": "code",
   "execution_count": 6,
   "metadata": {},
   "outputs": [
    {
     "data": {
      "text/html": [
       "<div>\n",
       "<style scoped>\n",
       "    .dataframe tbody tr th:only-of-type {\n",
       "        vertical-align: middle;\n",
       "    }\n",
       "\n",
       "    .dataframe tbody tr th {\n",
       "        vertical-align: top;\n",
       "    }\n",
       "\n",
       "    .dataframe thead th {\n",
       "        text-align: right;\n",
       "    }\n",
       "</style>\n",
       "<table border=\"1\" class=\"dataframe\">\n",
       "  <thead>\n",
       "    <tr style=\"text-align: right;\">\n",
       "      <th></th>\n",
       "      <th>회사명</th>\n",
       "      <th>거래소코드</th>\n",
       "    </tr>\n",
       "  </thead>\n",
       "  <tbody>\n",
       "    <tr>\n",
       "      <th>281</th>\n",
       "      <td>(주)본느</td>\n",
       "      <td>2</td>\n",
       "    </tr>\n",
       "    <tr>\n",
       "      <th>377</th>\n",
       "      <td>(주)세화피앤씨</td>\n",
       "      <td>2</td>\n",
       "    </tr>\n",
       "    <tr>\n",
       "      <th>498</th>\n",
       "      <td>(주)아이엘사이언스</td>\n",
       "      <td>2</td>\n",
       "    </tr>\n",
       "    <tr>\n",
       "      <th>524</th>\n",
       "      <td>(주)알로이스</td>\n",
       "      <td>2</td>\n",
       "    </tr>\n",
       "    <tr>\n",
       "      <th>652</th>\n",
       "      <td>(주)엔케이맥스</td>\n",
       "      <td>2</td>\n",
       "    </tr>\n",
       "    <tr>\n",
       "      <th>844</th>\n",
       "      <td>(주)인산가</td>\n",
       "      <td>2</td>\n",
       "    </tr>\n",
       "    <tr>\n",
       "      <th>867</th>\n",
       "      <td>(주)자비스</td>\n",
       "      <td>2</td>\n",
       "    </tr>\n",
       "    <tr>\n",
       "      <th>872</th>\n",
       "      <td>(주)정다운</td>\n",
       "      <td>2</td>\n",
       "    </tr>\n",
       "    <tr>\n",
       "      <th>1118</th>\n",
       "      <td>(주)판타지오</td>\n",
       "      <td>2</td>\n",
       "    </tr>\n",
       "    <tr>\n",
       "      <th>1134</th>\n",
       "      <td>(주)포인트엔지니어링</td>\n",
       "      <td>2</td>\n",
       "    </tr>\n",
       "    <tr>\n",
       "      <th>1194</th>\n",
       "      <td>(주)한국비엔씨</td>\n",
       "      <td>2</td>\n",
       "    </tr>\n",
       "    <tr>\n",
       "      <th>1214</th>\n",
       "      <td>(주)핸디소프트</td>\n",
       "      <td>2</td>\n",
       "    </tr>\n",
       "    <tr>\n",
       "      <th>1271</th>\n",
       "      <td>나무기술(주)</td>\n",
       "      <td>2</td>\n",
       "    </tr>\n",
       "    <tr>\n",
       "      <th>1410</th>\n",
       "      <td>소프트캠프(주)</td>\n",
       "      <td>2</td>\n",
       "    </tr>\n",
       "    <tr>\n",
       "      <th>1428</th>\n",
       "      <td>씨아이에스(주)</td>\n",
       "      <td>2</td>\n",
       "    </tr>\n",
       "    <tr>\n",
       "      <th>1616</th>\n",
       "      <td>줌인터넷(주)</td>\n",
       "      <td>2</td>\n",
       "    </tr>\n",
       "    <tr>\n",
       "      <th>1639</th>\n",
       "      <td>케이엠제약(주)</td>\n",
       "      <td>2</td>\n",
       "    </tr>\n",
       "    <tr>\n",
       "      <th>1668</th>\n",
       "      <td>패션플랫폼(주)</td>\n",
       "      <td>2</td>\n",
       "    </tr>\n",
       "  </tbody>\n",
       "</table>\n",
       "</div>"
      ],
      "text/plain": [
       "              회사명  거래소코드\n",
       "281         (주)본느      2\n",
       "377      (주)세화피앤씨      2\n",
       "498    (주)아이엘사이언스      2\n",
       "524       (주)알로이스      2\n",
       "652      (주)엔케이맥스      2\n",
       "844        (주)인산가      2\n",
       "867        (주)자비스      2\n",
       "872        (주)정다운      2\n",
       "1118      (주)판타지오      2\n",
       "1134  (주)포인트엔지니어링      2\n",
       "1194     (주)한국비엔씨      2\n",
       "1214     (주)핸디소프트      2\n",
       "1271      나무기술(주)      2\n",
       "1410     소프트캠프(주)      2\n",
       "1428     씨아이에스(주)      2\n",
       "1616      줌인터넷(주)      2\n",
       "1639     케이엠제약(주)      2\n",
       "1668     패션플랫폼(주)      2"
      ]
     },
     "execution_count": 6,
     "metadata": {},
     "output_type": "execute_result"
    }
   ],
   "source": [
    "daq = kosdaq.groupby(['회사명'])['거래소코드'].nunique().reset_index()\n",
    "daq[daq['거래소코드']>1]"
   ]
  },
  {
   "cell_type": "code",
   "execution_count": 7,
   "metadata": {},
   "outputs": [
    {
     "data": {
      "text/html": [
       "<div>\n",
       "<style scoped>\n",
       "    .dataframe tbody tr th:only-of-type {\n",
       "        vertical-align: middle;\n",
       "    }\n",
       "\n",
       "    .dataframe tbody tr th {\n",
       "        vertical-align: top;\n",
       "    }\n",
       "\n",
       "    .dataframe thead th {\n",
       "        text-align: right;\n",
       "    }\n",
       "</style>\n",
       "<table border=\"1\" class=\"dataframe\">\n",
       "  <thead>\n",
       "    <tr style=\"text-align: right;\">\n",
       "      <th></th>\n",
       "      <th>회사명</th>\n",
       "      <th>거래소코드</th>\n",
       "    </tr>\n",
       "  </thead>\n",
       "  <tbody>\n",
       "    <tr>\n",
       "      <th>143</th>\n",
       "      <td>(주)신성이엔지</td>\n",
       "      <td>2</td>\n",
       "    </tr>\n",
       "    <tr>\n",
       "      <th>505</th>\n",
       "      <td>삼성물산(주)</td>\n",
       "      <td>2</td>\n",
       "    </tr>\n",
       "    <tr>\n",
       "      <th>582</th>\n",
       "      <td>에스케이(주)</td>\n",
       "      <td>2</td>\n",
       "    </tr>\n",
       "  </tbody>\n",
       "</table>\n",
       "</div>"
      ],
      "text/plain": [
       "          회사명  거래소코드\n",
       "143  (주)신성이엔지      2\n",
       "505   삼성물산(주)      2\n",
       "582   에스케이(주)      2"
      ]
     },
     "execution_count": 7,
     "metadata": {},
     "output_type": "execute_result"
    }
   ],
   "source": [
    "pi = kospi.groupby(['회사명'])['거래소코드'].nunique().reset_index()\n",
    "pi[pi['거래소코드']>1]"
   ]
  },
  {
   "cell_type": "markdown",
   "metadata": {},
   "source": [
    "#### 연결 + 개별 DataFrame 합치기"
   ]
  },
  {
   "cell_type": "code",
   "execution_count": 8,
   "metadata": {},
   "outputs": [],
   "source": [
    "col = pd.Series(kosdaq1.columns)\n",
    "col = col.str.split('_').str.get(0)[3:]\n",
    "col = col.reset_index(drop=True)\n",
    "\n",
    "# 연결에 없는 값 개별에 있으면 대입\n",
    "for i in range(len(col)):\n",
    "        kosdaq.loc[kosdaq[col[i]+'_연결'].isna(), col[i]+'_연결'] = kosdaq[col[i]+'_개별']\n",
    "\n",
    "# 컬럼 정리\n",
    "kosdaq.drop(list(kosdaq2.columns)[3:], axis=1, inplace=True)\n",
    "col_name = pd.Series(kosdaq.columns)\n",
    "kosdaq.columns = col_name.str.split('_').str.get(0)"
   ]
  },
  {
   "cell_type": "code",
   "execution_count": 9,
   "metadata": {},
   "outputs": [],
   "source": [
    "col = pd.Series(kospi1.columns)\n",
    "col = col.str.split('_').str.get(0)[3:]\n",
    "col = col.reset_index(drop=True)\n",
    "\n",
    "# 연결에 없는 값 개별에 있으면 대입\n",
    "for i in range(len(col)):\n",
    "        kospi.loc[kospi[col[i]+'_연결'].isna(), col[i]+'_연결'] = kospi[col[i]+'_개별']\n",
    "\n",
    "# 컬럼 정리\n",
    "kospi.drop(list(kospi2.columns)[3:], axis=1, inplace=True)\n",
    "col_name = pd.Series(kospi.columns)\n",
    "kospi.columns = col_name.str.split('_').str.get(0)"
   ]
  },
  {
   "cell_type": "markdown",
   "metadata": {},
   "source": [
    "#### 회계년도, 회계월 정리"
   ]
  },
  {
   "cell_type": "code",
   "execution_count": 10,
   "metadata": {},
   "outputs": [],
   "source": [
    "kosdaq.loc[kosdaq['회계년도']=='2019', '회계년도'] = '2019/12'\n",
    "kosdaq['회계월'] = kosdaq['회계년도'].str.split('/').str.get(1)\n",
    "kosdaq['회계년도'] = kosdaq['회계년도'].str.split('/').str.get(0).astype('int64')\n",
    "kosdaq['회계년도+1'] = kosdaq['회계년도']+1"
   ]
  },
  {
   "cell_type": "code",
   "execution_count": 11,
   "metadata": {},
   "outputs": [],
   "source": [
    "kospi.loc[kospi['회계년도']=='2019', '회계년도'] = '2019/12'\n",
    "kospi['회계월'] = kospi['회계년도'].str.split('/').str.get(1)\n",
    "kospi['회계년도'] = kospi['회계년도'].str.split('/').str.get(0).astype('int64')\n",
    "kospi['회계년도+1'] = kospi['회계년도']+1"
   ]
  },
  {
   "cell_type": "code",
   "execution_count": 12,
   "metadata": {},
   "outputs": [
    {
     "data": {
      "text/plain": [
       "815"
      ]
     },
     "execution_count": 12,
     "metadata": {},
     "output_type": "execute_result"
    }
   ],
   "source": [
    "len(kospi['거래소코드'].unique())"
   ]
  },
  {
   "cell_type": "markdown",
   "metadata": {},
   "source": [
    "#### 부실 기업 (Target)"
   ]
  },
  {
   "cell_type": "markdown",
   "metadata": {},
   "source": [
    "##### 코스피"
   ]
  },
  {
   "cell_type": "code",
   "execution_count": 13,
   "metadata": {},
   "outputs": [],
   "source": [
    "kospi = pd.merge(kospi, kospi_bankruptcy[['회계년도', '거래소코드']], left_on=['회계년도+1', '거래소코드'], right_on=['회계년도', '거래소코드'], how='left')\n",
    "kospi.rename(columns={'회계년도_x':'회계년도',\n",
    "                    '회계년도_y':'target'}, inplace=True)\n",
    "kospi['target'] = np.where(kospi['target'].isna(), 0, 1)"
   ]
  },
  {
   "cell_type": "code",
   "execution_count": 14,
   "metadata": {},
   "outputs": [
    {
     "name": "stdout",
     "output_type": "stream",
     "text": [
      "5987\n",
      "591\n"
     ]
    }
   ],
   "source": [
    "print(len(kospi[kospi['target']==0]))\n",
    "print(len(kospi[kospi['target']==1]))"
   ]
  },
  {
   "cell_type": "markdown",
   "metadata": {},
   "source": [
    "코스닥"
   ]
  },
  {
   "cell_type": "code",
   "execution_count": 15,
   "metadata": {},
   "outputs": [],
   "source": [
    "kosdaq = pd.merge(kosdaq, kosdaq_bankruptcy[['회계년도', '거래소코드']], left_on=['회계년도+1', '거래소코드'], right_on=['회계년도', '거래소코드'], how='left')\n",
    "kosdaq.rename(columns={'회계년도_x':'회계년도',\n",
    "                    '회계년도_y':'target'}, inplace=True)\n",
    "kosdaq['target'] = np.where(kosdaq['target'].isna(), 0, 1)"
   ]
  },
  {
   "cell_type": "code",
   "execution_count": 16,
   "metadata": {},
   "outputs": [
    {
     "name": "stdout",
     "output_type": "stream",
     "text": [
      "11026\n",
      "1269\n"
     ]
    }
   ],
   "source": [
    "print(len(kosdaq[kosdaq['target']==0]))\n",
    "print(len(kosdaq[kosdaq['target']==1]))"
   ]
  },
  {
   "cell_type": "markdown",
   "metadata": {},
   "source": [
    "#### 회사 drop 함수"
   ]
  },
  {
   "cell_type": "code",
   "execution_count": 17,
   "metadata": {},
   "outputs": [],
   "source": [
    "# 회사 drop 함수\n",
    "def drop_company(df, list):\n",
    "    df.set_index('거래소코드', drop=True, inplace=True)\n",
    "    df.drop(list, axis=0, inplace=True)\n",
    "    df.reset_index(inplace=True)"
   ]
  },
  {
   "cell_type": "markdown",
   "metadata": {},
   "source": [
    "#### 코스닥 中 연구개발업종 + 특례 상장 제외"
   ]
  },
  {
   "cell_type": "code",
   "execution_count": 18,
   "metadata": {},
   "outputs": [],
   "source": [
    "dropdf = pd.read_csv('./dataset/연구개발업.csv', encoding='utf-8')\n",
    "dropdf['거래소코드'] = dropdf['거래소코드'].astype(str).str.zfill(6)\n",
    "\n",
    "droplist = dropdf['거래소코드'].unique()    # 연구개발업종\n",
    "droplist2 = ['263050', '208340', '288330', '294090', '334970', '226610']    # 특례 상장 (+한국비엔씨)\n",
    "droplist = np.concatenate([droplist, droplist2])"
   ]
  },
  {
   "cell_type": "code",
   "execution_count": 19,
   "metadata": {},
   "outputs": [],
   "source": [
    "# (주)유틸렉스 : 263050\n",
    "# (주)파멥신 : 208340\n",
    "# 브릿지바이오테라퓨틱스(주) : 288330\n",
    "# 이오플로우(주) : 294090\n",
    "# 프레스티지바이오로직스(주) : 334970"
   ]
  },
  {
   "cell_type": "code",
   "execution_count": 20,
   "metadata": {},
   "outputs": [],
   "source": [
    "drop_company(kosdaq, droplist)"
   ]
  },
  {
   "cell_type": "code",
   "execution_count": 21,
   "metadata": {},
   "outputs": [
    {
     "data": {
      "text/plain": [
       "Index(['매출액', '매출원가', '매출총이익', '매출채권 및 기타유동채권', '매출액증가율', '매출액총이익률', '매출채권비율',\n",
       "       '매출채권 대 매입채무비율', 'CASH FLOW 대 매출액비율', '매출채권회전률', '매출채권회전기간'],\n",
       "      dtype='object')"
      ]
     },
     "execution_count": 21,
     "metadata": {},
     "output_type": "execute_result"
    }
   ],
   "source": [
    "kosdaq.columns[kosdaq.columns.str.contains('매출')]"
   ]
  },
  {
   "cell_type": "code",
   "execution_count": 22,
   "metadata": {},
   "outputs": [],
   "source": [
    "# 외부 감사인의 감사, 검토를 받지 않아서 결측치 존재 -> 제거\n",
    "kosdaq.drop(kosdaq[(kosdaq['회사명']=='우리손에프앤지농업회사법인(주)') & (kosdaq['회계년도']==2011)].index, axis=0, inplace=True)\n",
    "\n",
    "# 회사설립일 & I/S에 따른 결측치 존재 -> 제거\n",
    "kosdaq.drop(kosdaq[(kosdaq['회사명']=='(주)슈프리마') & (kosdaq['회계년도']==2015)].index, axis=0, inplace=True)\n",
    "kosdaq.drop(kosdaq[(kosdaq['회사명']=='덕산네오룩스(주)') & (kosdaq['회계년도']==2014)].index, axis=0, inplace=True)\n"
   ]
  },
  {
   "cell_type": "markdown",
   "metadata": {},
   "source": [
    "#### 코스피 - 기타법인 제거"
   ]
  },
  {
   "cell_type": "code",
   "execution_count": 23,
   "metadata": {},
   "outputs": [],
   "source": [
    "droplist = ['104110', '000830', '003600']\n",
    "drop_company(kospi, droplist)"
   ]
  },
  {
   "cell_type": "markdown",
   "metadata": {},
   "source": [
    "#### 결측치 처리"
   ]
  },
  {
   "cell_type": "markdown",
   "metadata": {},
   "source": [
    "##### 1. 재무제표를 못 불러오는 row 제거"
   ]
  },
  {
   "cell_type": "code",
   "execution_count": 24,
   "metadata": {},
   "outputs": [],
   "source": [
    "kosdaq.dropna(subset=['유형자산'], axis=0, inplace=True)"
   ]
  },
  {
   "cell_type": "code",
   "execution_count": 25,
   "metadata": {},
   "outputs": [],
   "source": [
    "kospi.dropna(subset=['유형자산'], axis=0, inplace=True)"
   ]
  },
  {
   "cell_type": "markdown",
   "metadata": {},
   "source": [
    "##### 2. 회계년도가 하나인 기업 제거"
   ]
  },
  {
   "cell_type": "markdown",
   "metadata": {},
   "source": [
    "M Score -> 작년과 올해의 비율을 계산해야하기 때문에 회계년도가 하나이면 계산 불가능"
   ]
  },
  {
   "cell_type": "code",
   "execution_count": 26,
   "metadata": {},
   "outputs": [
    {
     "data": {
      "text/plain": [
       "Index(['002670', '007150', '015200', '015390', '019260', '033280', '034010',\n",
       "       '035210', '037320', '038120', '038320', '038990', '040740', '042340',\n",
       "       '042820', '043890', '045050', '045260', '047730', '048460', '050050',\n",
       "       '050470', '052350', '053040', '056010', '056710', '060850', '065310',\n",
       "       '065610', '066690', '067130', '068630', '071660', '073130', '086710',\n",
       "       '089480', '094700', '098400', '105070', '126340', '129890', '136410',\n",
       "       '160350', '163730', '167380', '225220', '227950', '230400', '233190',\n",
       "       '239340', '242420', '250930', '253590', '254120', '256090', '256630',\n",
       "       '256840', '258790', '262840', '264850', '271400', '297570', '299030',\n",
       "       '303030', '307180', '314130', '315640', '318410', '319660', '321820',\n",
       "       '330860', '331920', '333620', '337930', '338220', '340570', '340930',\n",
       "       '347000', '347770', '347860', '347890', '348350', '348370', '351330',\n",
       "       '352480', '352770', '352910', '352940', '354200', '357550', '361570',\n",
       "       '370090', '900150', '950030', '950200'],\n",
       "      dtype='object', name='거래소코드')"
      ]
     },
     "execution_count": 26,
     "metadata": {},
     "output_type": "execute_result"
    }
   ],
   "source": [
    "company_d_cnt = kosdaq.groupby('거래소코드').count()['회계년도']\n",
    "company_d_cnt[company_d_cnt==1].index"
   ]
  },
  {
   "cell_type": "code",
   "execution_count": 27,
   "metadata": {},
   "outputs": [],
   "source": [
    "drop_company(kosdaq, company_d_cnt[company_d_cnt==1].index)"
   ]
  },
  {
   "cell_type": "code",
   "execution_count": 28,
   "metadata": {},
   "outputs": [
    {
     "data": {
      "text/plain": [
       "Index(['001310', '004010', '004550', '009380', '011800', '012400', '014300',\n",
       "       '015110', '016570', '026870', '064420', '244920', '329180', '336260',\n",
       "       '336370', '352820', '361610', '381970', '900030'],\n",
       "      dtype='object', name='거래소코드')"
      ]
     },
     "execution_count": 28,
     "metadata": {},
     "output_type": "execute_result"
    }
   ],
   "source": [
    "company_p_cnt = kospi.groupby('거래소코드').count()['회계년도']\n",
    "company_p_cnt[company_p_cnt==1].index"
   ]
  },
  {
   "cell_type": "code",
   "execution_count": 29,
   "metadata": {},
   "outputs": [],
   "source": [
    "drop_company(kospi, company_p_cnt[company_p_cnt==1].index)"
   ]
  },
  {
   "cell_type": "markdown",
   "metadata": {},
   "source": [
    "##### 3. 회계월 변경 기업 제거"
   ]
  },
  {
   "cell_type": "markdown",
   "metadata": {},
   "source": [
    "코스닥"
   ]
  },
  {
   "cell_type": "code",
   "execution_count": 30,
   "metadata": {},
   "outputs": [],
   "source": [
    "kosdaq_month = kosdaq.groupby(['거래소코드'])['회계월'].unique()\n",
    "\n",
    "diff_kosdaq = []\n",
    "for i in range(len(kosdaq_month)):\n",
    "    if len(kosdaq_month.values[i]) != 1:\n",
    "        diff_kosdaq.append(kosdaq_month.index[i])"
   ]
  },
  {
   "cell_type": "code",
   "execution_count": 31,
   "metadata": {},
   "outputs": [],
   "source": [
    "kosdaq.set_index('거래소코드', drop=True, inplace=True)\n",
    "kosdaq.drop(diff_kosdaq, axis=0, inplace=True)\n",
    "kosdaq.drop('회계월', axis=1, inplace=True)\n",
    "kosdaq.reset_index(inplace=True)"
   ]
  },
  {
   "cell_type": "markdown",
   "metadata": {},
   "source": [
    "코스피"
   ]
  },
  {
   "cell_type": "code",
   "execution_count": 32,
   "metadata": {},
   "outputs": [],
   "source": [
    "kospi_month = kospi.groupby(['거래소코드'])['회계월'].unique()\n",
    "\n",
    "diff_kospi = []\n",
    "for i in range(len(kospi_month)):\n",
    "    if len(kospi_month.values[i]) != 1:\n",
    "        diff_kospi.append(kospi_month.index[i])"
   ]
  },
  {
   "cell_type": "code",
   "execution_count": 33,
   "metadata": {},
   "outputs": [],
   "source": [
    "kospi.set_index('거래소코드', drop=True, inplace=True)\n",
    "kospi.drop(diff_kospi, axis=0, inplace=True)\n",
    "kospi.drop('회계월', axis=1, inplace=True)\n",
    "kospi.reset_index(inplace=True)"
   ]
  },
  {
   "cell_type": "markdown",
   "metadata": {},
   "source": [
    "##### 4. 감가상각비"
   ]
  },
  {
   "cell_type": "markdown",
   "metadata": {},
   "source": [
    "감가상각비가 NaN거나, 0.0일 때\n",
    "\n",
    "주석에 감가상각비 값이 들어있으면 대입\n",
    "\n",
    "그래도 없으면 dropna"
   ]
  },
  {
   "cell_type": "code",
   "execution_count": 34,
   "metadata": {},
   "outputs": [],
   "source": [
    "kosdaq.loc[kosdaq['감가상각비'].isna(), '감가상각비'] = kosdaq['감가(주석)']/1000\n",
    "kospi.loc[kospi['감가상각비'].isna(), '감가상각비'] = kospi['감가(주석)']/1000\n",
    "\n",
    "kosdaq.loc[kosdaq['감가상각비']==0.0, '감가상각비'] = kosdaq['감가(주석)']/1000\n",
    "kospi.loc[kospi['감가상각비']==0.0, '감가상각비'] = kospi['감가(주석)']/1000"
   ]
  },
  {
   "cell_type": "code",
   "execution_count": 35,
   "metadata": {},
   "outputs": [],
   "source": [
    "kosdaq.drop(['감가(주석)'], axis=1, inplace=True)\n",
    "kospi.drop(['감가(주석)'], axis=1, inplace=True)"
   ]
  },
  {
   "cell_type": "markdown",
   "metadata": {},
   "source": [
    "감가상각비가 결측치면 0.0으로 뜨게 된다.\n",
    "\n",
    "감가상각비가 0.0인 row -> 그룹별 평균으로 채우기"
   ]
  },
  {
   "cell_type": "code",
   "execution_count": 36,
   "metadata": {},
   "outputs": [],
   "source": [
    "kosdaq.loc[kosdaq['감가상각비']==0.0, '감가상각비'] = np.nan\n",
    "kosdaq['감가상각비'] = kosdaq['감가상각비'].fillna(kosdaq.groupby('거래소코드')['감가상각비'].transform('mean'))"
   ]
  },
  {
   "cell_type": "code",
   "execution_count": 37,
   "metadata": {},
   "outputs": [],
   "source": [
    "kospi.loc[kospi['감가상각비']==0.0, '감가상각비'] = np.nan\n",
    "kospi['감가상각비'] = kospi['감가상각비'].fillna(kospi.groupby('거래소코드')['감가상각비'].transform('mean'))"
   ]
  },
  {
   "cell_type": "markdown",
   "metadata": {},
   "source": [
    "지에스는 모든 년도에 감가상각비가 없음(지주사이기 때문에)\n",
    "\n",
    "지에스 감가상각비 모두 0.0으로 채우기"
   ]
  },
  {
   "cell_type": "code",
   "execution_count": 38,
   "metadata": {},
   "outputs": [
    {
     "data": {
      "text/html": [
       "<div>\n",
       "<style scoped>\n",
       "    .dataframe tbody tr th:only-of-type {\n",
       "        vertical-align: middle;\n",
       "    }\n",
       "\n",
       "    .dataframe tbody tr th {\n",
       "        vertical-align: top;\n",
       "    }\n",
       "\n",
       "    .dataframe thead th {\n",
       "        text-align: right;\n",
       "    }\n",
       "</style>\n",
       "<table border=\"1\" class=\"dataframe\">\n",
       "  <thead>\n",
       "    <tr style=\"text-align: right;\">\n",
       "      <th></th>\n",
       "      <th>회사명</th>\n",
       "      <th>거래소코드</th>\n",
       "      <th>회계년도</th>\n",
       "      <th>감가상각비</th>\n",
       "    </tr>\n",
       "  </thead>\n",
       "  <tbody>\n",
       "    <tr>\n",
       "      <th>1976</th>\n",
       "      <td>(주)지에스</td>\n",
       "      <td>078930</td>\n",
       "      <td>2011</td>\n",
       "      <td>NaN</td>\n",
       "    </tr>\n",
       "    <tr>\n",
       "      <th>1974</th>\n",
       "      <td>(주)지에스</td>\n",
       "      <td>078930</td>\n",
       "      <td>2012</td>\n",
       "      <td>NaN</td>\n",
       "    </tr>\n",
       "    <tr>\n",
       "      <th>1975</th>\n",
       "      <td>(주)지에스</td>\n",
       "      <td>078930</td>\n",
       "      <td>2013</td>\n",
       "      <td>NaN</td>\n",
       "    </tr>\n",
       "    <tr>\n",
       "      <th>1972</th>\n",
       "      <td>(주)지에스</td>\n",
       "      <td>078930</td>\n",
       "      <td>2014</td>\n",
       "      <td>NaN</td>\n",
       "    </tr>\n",
       "    <tr>\n",
       "      <th>1968</th>\n",
       "      <td>(주)지에스</td>\n",
       "      <td>078930</td>\n",
       "      <td>2015</td>\n",
       "      <td>NaN</td>\n",
       "    </tr>\n",
       "    <tr>\n",
       "      <th>1970</th>\n",
       "      <td>(주)지에스</td>\n",
       "      <td>078930</td>\n",
       "      <td>2016</td>\n",
       "      <td>NaN</td>\n",
       "    </tr>\n",
       "    <tr>\n",
       "      <th>1971</th>\n",
       "      <td>(주)지에스</td>\n",
       "      <td>078930</td>\n",
       "      <td>2017</td>\n",
       "      <td>NaN</td>\n",
       "    </tr>\n",
       "    <tr>\n",
       "      <th>1973</th>\n",
       "      <td>(주)지에스</td>\n",
       "      <td>078930</td>\n",
       "      <td>2018</td>\n",
       "      <td>NaN</td>\n",
       "    </tr>\n",
       "    <tr>\n",
       "      <th>1969</th>\n",
       "      <td>(주)지에스</td>\n",
       "      <td>078930</td>\n",
       "      <td>2019</td>\n",
       "      <td>NaN</td>\n",
       "    </tr>\n",
       "  </tbody>\n",
       "</table>\n",
       "</div>"
      ],
      "text/plain": [
       "         회사명   거래소코드  회계년도  감가상각비\n",
       "1976  (주)지에스  078930  2011    NaN\n",
       "1974  (주)지에스  078930  2012    NaN\n",
       "1975  (주)지에스  078930  2013    NaN\n",
       "1972  (주)지에스  078930  2014    NaN\n",
       "1968  (주)지에스  078930  2015    NaN\n",
       "1970  (주)지에스  078930  2016    NaN\n",
       "1971  (주)지에스  078930  2017    NaN\n",
       "1973  (주)지에스  078930  2018    NaN\n",
       "1969  (주)지에스  078930  2019    NaN"
      ]
     },
     "execution_count": 38,
     "metadata": {},
     "output_type": "execute_result"
    }
   ],
   "source": [
    "kospi[(kospi['감가상각비'].isna())][['회사명', '거래소코드', '회계년도', '감가상각비']].sort_values('회계년도')"
   ]
  },
  {
   "cell_type": "code",
   "execution_count": 39,
   "metadata": {},
   "outputs": [],
   "source": [
    "kospi['감가상각비'] = kospi['감가상각비'].fillna(0.0)"
   ]
  },
  {
   "cell_type": "markdown",
   "metadata": {},
   "source": [
    "##### 5. 파생변수 계산 + NaN 처리"
   ]
  },
  {
   "cell_type": "markdown",
   "metadata": {},
   "source": [
    "코스닥"
   ]
  },
  {
   "cell_type": "code",
   "execution_count": 40,
   "metadata": {},
   "outputs": [],
   "source": [
    "kosdaq['총자본증가율'] = (kosdaq['자산'] - kosdaq.sort_values(by='회계년도', ascending=True).groupby('거래소코드')['자산'].shift(1)) / kosdaq.sort_values(by='회계년도', ascending=True).groupby('거래소코드')['자산'].shift(1) * 100\n",
    "kosdaq['유형자산증가율'] = (kosdaq['유형자산'] - kosdaq.sort_values(by='회계년도', ascending=True).groupby('거래소코드')['유형자산'].shift(1)) / kosdaq.sort_values(by='회계년도', ascending=True).groupby('거래소코드')['유형자산'].shift(1) * 100\n",
    "kosdaq['비유동자산증가율'] = (kosdaq['비유동자산'] - kosdaq.sort_values(by='회계년도', ascending=True).groupby('거래소코드')['비유동자산'].shift(1)) / kosdaq.sort_values(by='회계년도', ascending=True).groupby('거래소코드')['비유동자산'].shift(1) * 100\n",
    "kosdaq['유동자산증가율'] = (kosdaq['유동자산'] - kosdaq.sort_values(by='회계년도', ascending=True).groupby('거래소코드')['유동자산'].shift(1)) / kosdaq.sort_values(by='회계년도', ascending=True).groupby('거래소코드')['유동자산'].shift(1) * 100\n",
    "kosdaq['매출액증가율'] = (kosdaq['매출액'] - kosdaq.sort_values(by='회계년도', ascending=True).groupby('거래소코드')['매출액'].shift(1)) / kosdaq.sort_values(by='회계년도', ascending=True).groupby('거래소코드')['매출액'].shift(1) * 100\n",
    "kosdaq['매출액총이익률'] = kosdaq['매출총이익']/kosdaq['매출액']*100\n",
    "kosdaq['유동비율'] = kosdaq['유동자산']/kosdaq['자산']*100\n",
    "kosdaq['유동자산 대 비유동자산비율'] = kosdaq['유동자산']/kosdaq['비유동자산']*100\n",
    "kosdaq['비유동자산구성비율'] = kosdaq['비유동자산']/kosdaq['자산']*100\n",
    "kosdaq['자기자본구성비율'] = kosdaq['자본']/kosdaq['자산']*100\n",
    "kosdaq['타인자본구성비율'] = kosdaq['부채']/kosdaq['자산']*100\n",
    "kosdaq['비유동비율'] = kosdaq['비유동자산']/kosdaq['자본']*100\n",
    "kosdaq['비유동장기적합률'] = kosdaq['비유동자산']/(kosdaq['부채']-kosdaq['유동부채']+kosdaq['자본'])*100\n",
    "kosdaq['유동비율'] = kosdaq['유동자산']/kosdaq['유동부채']*100\n",
    "kosdaq['현금비율'] = kosdaq['현금및현금성자산']/kosdaq['자산']*100\n",
    "kosdaq['매출채권비율'] = kosdaq['매출채권 및 기타유동채권']/kosdaq['자산']*100\n",
    "kosdaq['순운전자본'] = kosdaq['유동자산']-kosdaq['유동부채']\n",
    "kosdaq['부채비율'] = kosdaq['부채']/kosdaq['자본']*100\n",
    "kosdaq['유동부채비율'] = kosdaq['유동부채']/kosdaq['자본']*100\n",
    "kosdaq['비유동부채비율'] = (kosdaq['부채']-kosdaq['유동부채'])/kosdaq['자본']*100\n",
    "kosdaq['비유동부채 대 순운전자본비율'] = (kosdaq['부채']-kosdaq['유동부채'])/kosdaq['순운전자본']*100\n",
    "kosdaq['순운전자본비율'] = kosdaq['순운전자본']/kosdaq['자산']*100\n",
    "kosdaq['차입금의존도'] = (kosdaq['장기차입금']+kosdaq['단기차입금']+kosdaq['사채'])/kosdaq['자산']*100\n",
    "kosdaq['차입금비율'] = (kosdaq['장기차입금']+kosdaq['단기차입금']+kosdaq['사채'])/kosdaq['자본']*100\n",
    "kosdaq['이자보상배율(이자비용)'] = kosdaq['영업손익']/kosdaq['이자비용']\n",
    "kosdaq['CASH FLOW 대 부채비율'] = kosdaq['OCF']/kosdaq['부채']*100\n",
    "kosdaq['CASH FLOW 대 차입금비율'] = kosdaq['OCF']/(kosdaq['장기차입금']+kosdaq['단기차입금']+kosdaq['사채'])*100\n",
    "kosdaq['CASH FLOW 대 매출액비율'] = kosdaq['OCF']/kosdaq['매출액']*100\n",
    "kosdaq['총자본회전률'] = kosdaq['매출액']/kosdaq['자산']*100\n",
    "kosdaq['자기자본회전률'] = kosdaq['매출액']/(kosdaq.sort_values(by='회계년도', ascending=True).groupby('거래소코드')['자본'].shift(1) + kosdaq['자본'])*100\n",
    "kosdaq['매입채무회전률'] = kosdaq['매출액']/(kosdaq.sort_values(by='회계년도', ascending=True).groupby('거래소코드')['매입채무 및 기타유동채무'].shift(1) + kosdaq['매입채무 및 기타유동채무'])*100\n",
    "kosdaq['매입채무회전기간'] = 365/kosdaq['매입채무회전률']*100\n",
    "kosdaq['유동자산회전률'] = kosdaq['매출액']/(kosdaq.sort_values(by='회계년도', ascending=True).groupby('거래소코드')['유동자산'].shift(1) + kosdaq['유동자산'])*100\n",
    "kosdaq['당좌자산'] = kosdaq['유동자산']-kosdaq['재고자산']\n",
    "kosdaq['당좌자산회전률'] = kosdaq['매출액']/(kosdaq.sort_values(by='회계년도', ascending=True).groupby('거래소코드')['당좌자산'].shift(1) + kosdaq['당좌자산'])*100\n",
    "kosdaq['재고자산회전률'] = kosdaq['매출액']/(kosdaq.sort_values(by='회계년도', ascending=True).groupby('거래소코드')['재고자산'].shift(1) + kosdaq['재고자산'])*100\n",
    "kosdaq['재고자산회전기간'] = 365/kosdaq['재고자산회전률']*100\n",
    "kosdaq['매출채권회전률'] = kosdaq['매출액']/(kosdaq.sort_values(by='회계년도', ascending=True).groupby('거래소코드')['매출채권 및 기타유동채권'].shift(1) + kosdaq['매출채권 및 기타유동채권'])*100\n",
    "kosdaq['매출채권회전기간'] = 365/kosdaq['매출채권회전률']*100\n",
    "kosdaq['비유동자산회전률'] = kosdaq['매출액']/(kosdaq.sort_values(by='회계년도', ascending=True).groupby('거래소코드')['비유동자산'].shift(1) + kosdaq['비유동자산'])*100\n",
    "kosdaq['유형자산회전율'] = kosdaq['매출액']/(kosdaq.sort_values(by='회계년도', ascending=True).groupby('거래소코드')['유형자산'].shift(1) + kosdaq['유형자산'])*100\n",
    "kosdaq['비유동자산회전률'] = kosdaq['매출액']/(kosdaq.sort_values(by='회계년도', ascending=True).groupby('거래소코드')['비유동자산'].shift(1) + kosdaq['비유동자산'])*100\n",
    "kosdaq['순운전자본회전률'] = kosdaq['매출액']/(kosdaq.sort_values(by='회계년도', ascending=True).groupby('거래소코드')['순운전자본'].shift(1) + kosdaq['순운전자본'])*100\n",
    "kosdaq['1회전기간'] = kosdaq['매출채권회전기간'] + kosdaq['재고자산회전기간'] - kosdaq['매입채무회전기간']\n",
    "kosdaq['당좌자산구성비율'] = kosdaq['당좌자산']/kosdaq['자산']*100\n",
    "kosdaq['당좌비율'] = kosdaq['당좌자산']/kosdaq['유동부채']*100\n",
    "kosdaq['재고자산 대 순운전자본비율'] = kosdaq['재고자산']/kosdaq['순운전자본']*100\n",
    "kosdaq['재고자산증가율'] = (kosdaq.sort_values(by='회계년도', ascending=True).groupby('거래소코드')['재고자산'].shift(1) + kosdaq['재고자산'])/kosdaq.sort_values(by='회계년도', ascending=True).groupby('거래소코드')['재고자산'].shift(1)*100\n",
    "kosdaq['매출채권 대 매입채무비율'] = kosdaq['매출채권 및 기타유동채권']/kosdaq['매입채무 및 기타유동채무']*100\n",
    "kosdaq['매입채무 대 재고자산비율'] = kosdaq['매입채무 및 기타유동채무']/kosdaq['재고자산']*100\n",
    "kosdaq['단기차입금 대 총차입금비율'] = kosdaq['단기차입금']/(kosdaq['단기차입금']+kosdaq['장기차입금']+kosdaq['사채'])*100\n",
    "kosdaq['매출액영업이익률'] = kosdaq['영업손익']/kosdaq['매출액']*100\n",
    "kosdaq['총자본영업이익률'] = kosdaq['영업손익']/kosdaq['자산']*100\n",
    "kosdaq['자기자본영업이익률'] = kosdaq['영업손익']/kosdaq['자본']*100\n",
    "kosdaq['매출원가 대 매출액 비율'] = kosdaq['매출원가']/kosdaq['매출액']*100\n",
    "kosdaq['영업비용 대 영업수익 비율'] = kosdaq['판관비']/kosdaq['영업손익']*100\n",
    "kosdaq['총비용'] = kosdaq['매출원가']+kosdaq['판관비']+kosdaq['이자비용']+kosdaq['감가상각비']\n",
    "kosdaq['감가상각비 대 총비용비율'] = kosdaq['감가상각비']/kosdaq['총비용']*100"
   ]
  },
  {
   "cell_type": "code",
   "execution_count": 41,
   "metadata": {},
   "outputs": [
    {
     "data": {
      "text/plain": [
       "Index(['총자본증가율', '유형자산증가율', '비유동자산증가율', '유동자산증가율', '매출액증가율', '자기자본회전률',\n",
       "       '매입채무회전률', '매입채무회전기간', '유동자산회전률', '당좌자산회전률', '재고자산회전률', '재고자산회전기간',\n",
       "       '매출채권회전률', '매출채권회전기간', '비유동자산회전률', '유형자산회전율', '순운전자본회전률', '1회전기간'],\n",
       "      dtype='object')"
      ]
     },
     "execution_count": 41,
     "metadata": {},
     "output_type": "execute_result"
    }
   ],
   "source": [
    "kosdaq.columns[kosdaq.isnull().sum() == 1403] # 첫년도 비율 구할 수 없어서 결측치 존재 (M_Score에서도 계산 못하기 때문에 OK)"
   ]
  },
  {
   "cell_type": "code",
   "execution_count": 42,
   "metadata": {},
   "outputs": [],
   "source": [
    "# 재고자산이 0이기 때문에 결측치 발생\n",
    "kosdaq[kosdaq['재고자산증가율'].isna()]\n",
    "kosdaq['재고자산증가율'] = kosdaq['재고자산증가율'].fillna(0.0)"
   ]
  },
  {
   "cell_type": "code",
   "execution_count": 43,
   "metadata": {},
   "outputs": [],
   "source": [
    "# 매입채무, 매입채무 및 기타유동채무가 모두 0이기 때문에 NaN -> 0.0으로 변경\n",
    "kosdaq[kosdaq['매입채무 대 재고자산비율'].isna()][['회사명', '거래소코드', '회계년도', '재고자산', '매입채무 대 재고자산비율', '매입채무 및 기타유동채무']]\n",
    "kosdaq['매입채무 대 재고자산비율'] = kosdaq['매입채무 대 재고자산비율'].fillna(0.0)"
   ]
  },
  {
   "cell_type": "code",
   "execution_count": 44,
   "metadata": {},
   "outputs": [],
   "source": [
    "# OCF, 장기차입금, 단기차입금, 사채가 모두 0이기 때문에 NaN -> 0.0으로 변경\n",
    "kosdaq[kosdaq['CASH FLOW 대 차입금비율'].isna()][['거래소코드', '회사명', '회계년도', 'OCF', '장기차입금', '단기차입금', '사채']]\n",
    "kosdaq['CASH FLOW 대 차입금비율'] = kosdaq['CASH FLOW 대 차입금비율'].fillna(0.0)"
   ]
  },
  {
   "cell_type": "code",
   "execution_count": 45,
   "metadata": {},
   "outputs": [],
   "source": [
    "# 장기차입금, 단기차입금, 사채가 모두 0이기 때문에 NaN -> 0.0으로 변경\n",
    "kosdaq[kosdaq['단기차입금 대 총차입금비율'].isna()][['거래소코드', '회사명', '회계년도', '장기차입금', '단기차입금', '사채']]\n",
    "kosdaq['단기차입금 대 총차입금비율'] = kosdaq['단기차입금 대 총차입금비율'].fillna(0.0)"
   ]
  },
  {
   "cell_type": "code",
   "execution_count": 46,
   "metadata": {},
   "outputs": [],
   "source": [
    "# 매출액, OCF가 모두 0이기 때문에 NaN -> 모두 0으로 처리\n",
    "kosdaq[kosdaq['CASH FLOW 대 매출액비율'].isna()][['거래소코드', '회사명', '회계년도', 'OCF', '매출액']]\n",
    "kosdaq['CASH FLOW 대 매출액비율'] = kosdaq['CASH FLOW 대 매출액비율'].fillna(0.0)"
   ]
  },
  {
   "cell_type": "code",
   "execution_count": 47,
   "metadata": {},
   "outputs": [],
   "source": [
    "# kosdaq.loc[kosdaq['종업원수'].isna(), '종업원수'] = kosdaq.sort_values(by='회계년도', ascending=True).groupby('거래소코드')['종업원수'].shift(-1)"
   ]
  },
  {
   "cell_type": "code",
   "execution_count": 48,
   "metadata": {},
   "outputs": [],
   "source": [
    "kosdaq.loc[(kosdaq['종업원수']==0.0) | (kosdaq['종업원수'].isna()), '종업원수'] = kosdaq.sort_values(by='회계년도', ascending=True).groupby('거래소코드')['종업원수'].shift(-1)\n",
    "kosdaq['종업원수'].fillna(0.0, inplace=True)"
   ]
  },
  {
   "cell_type": "code",
   "execution_count": 49,
   "metadata": {},
   "outputs": [
    {
     "data": {
      "text/plain": [
       "array([   0, 1403], dtype=int64)"
      ]
     },
     "execution_count": 49,
     "metadata": {},
     "output_type": "execute_result"
    }
   ],
   "source": [
    "kosdaq.isnull().sum().unique()"
   ]
  },
  {
   "cell_type": "markdown",
   "metadata": {},
   "source": [
    "코스피"
   ]
  },
  {
   "cell_type": "code",
   "execution_count": 50,
   "metadata": {},
   "outputs": [],
   "source": [
    "kospi['총자본증가율'] = (kospi['자산'] - kospi.sort_values(by='회계년도', ascending=True).groupby('거래소코드')['자산'].shift(1)) / kospi.sort_values(by='회계년도', ascending=True).groupby('거래소코드')['자산'].shift(1) * 100\n",
    "kospi['유형자산증가율'] = (kospi['유형자산'] - kospi.sort_values(by='회계년도', ascending=True).groupby('거래소코드')['유형자산'].shift(1)) / kospi.sort_values(by='회계년도', ascending=True).groupby('거래소코드')['유형자산'].shift(1) * 100\n",
    "kospi['비유동자산증가율'] = (kospi['비유동자산'] - kospi.sort_values(by='회계년도', ascending=True).groupby('거래소코드')['비유동자산'].shift(1)) / kospi.sort_values(by='회계년도', ascending=True).groupby('거래소코드')['비유동자산'].shift(1) * 100\n",
    "kospi['유동자산증가율'] = (kospi['유동자산'] - kospi.sort_values(by='회계년도', ascending=True).groupby('거래소코드')['유동자산'].shift(1)) / kospi.sort_values(by='회계년도', ascending=True).groupby('거래소코드')['유동자산'].shift(1) * 100\n",
    "kospi['매출액증가율'] = (kospi['매출액'] - kospi.sort_values(by='회계년도', ascending=True).groupby('거래소코드')['매출액'].shift(1)) / kospi.sort_values(by='회계년도', ascending=True).groupby('거래소코드')['매출액'].shift(1) * 100\n",
    "kospi['매출액총이익률'] = kospi['매출총이익']/kospi['매출액']*100\n",
    "kospi['유동비율'] = kospi['유동자산']/kospi['자산']*100\n",
    "kospi['유동자산 대 비유동자산비율'] = kospi['유동자산']/kospi['비유동자산']*100\n",
    "kospi['비유동자산구성비율'] = kospi['비유동자산']/kospi['자산']*100\n",
    "kospi['자기자본구성비율'] = kospi['자본']/kospi['자산']*100\n",
    "kospi['타인자본구성비율'] = kospi['부채']/kospi['자산']*100\n",
    "kospi['비유동비율'] = kospi['비유동자산']/kospi['자본']*100\n",
    "kospi['비유동장기적합률'] = kospi['비유동자산']/(kospi['부채']-kospi['유동부채']+kospi['자본'])*100\n",
    "kospi['유동비율'] = kospi['유동자산']/kospi['유동부채']*100\n",
    "kospi['현금비율'] = kospi['현금및현금성자산']/kospi['자산']*100\n",
    "kospi['매출채권비율'] = kospi['매출채권 및 기타유동채권']/kospi['자산']*100\n",
    "kospi['순운전자본'] = kospi['유동자산']-kospi['유동부채']\n",
    "kospi['부채비율'] = kospi['부채']/kospi['자본']*100\n",
    "kospi['유동부채비율'] = kospi['유동부채']/kospi['자본']*100\n",
    "kospi['비유동부채비율'] = (kospi['부채']-kospi['유동부채'])/kospi['자본']*100\n",
    "kospi['비유동부채 대 순운전자본비율'] = (kospi['부채']-kospi['유동부채'])/kospi['순운전자본']*100\n",
    "kospi['순운전자본비율'] = kospi['순운전자본']/kospi['자산']*100\n",
    "kospi['차입금의존도'] = (kospi['장기차입금']+kospi['단기차입금']+kospi['사채'])/kospi['자산']*100\n",
    "kospi['차입금비율'] = (kospi['장기차입금']+kospi['단기차입금']+kospi['사채'])/kospi['자본']*100\n",
    "kospi['이자보상배율(이자비용)'] = kospi['영업손익']/kospi['이자비용']\n",
    "kospi['CASH FLOW 대 부채비율'] = kospi['OCF']/kospi['부채']*100\n",
    "kospi['CASH FLOW 대 차입금비율'] = kospi['OCF']/(kospi['장기차입금']+kospi['단기차입금']+kospi['사채'])*100\n",
    "kospi['CASH FLOW 대 매출액비율'] = kospi['OCF']/kospi['매출액']*100\n",
    "kospi['총자본회전률'] = kospi['매출액']/kospi['자산']*100\n",
    "kospi['자기자본회전률'] = kospi['매출액']/(kospi.sort_values(by='회계년도', ascending=True).groupby('거래소코드')['자본'].shift(1) + kospi['자본'])*100\n",
    "kospi['매입채무회전률'] = kospi['매출액']/(kospi.sort_values(by='회계년도', ascending=True).groupby('거래소코드')['매입채무 및 기타유동채무'].shift(1) + kospi['매입채무 및 기타유동채무'])*100\n",
    "kospi['매입채무회전기간'] = 365/kospi['매입채무회전률']*100\n",
    "kospi['유동자산회전률'] = kospi['매출액']/(kospi.sort_values(by='회계년도', ascending=True).groupby('거래소코드')['유동자산'].shift(1) + kospi['유동자산'])*100\n",
    "kospi['당좌자산'] = kospi['유동자산']-kospi['재고자산']\n",
    "kospi['당좌자산회전률'] = kospi['매출액']/(kospi.sort_values(by='회계년도', ascending=True).groupby('거래소코드')['당좌자산'].shift(1) + kospi['당좌자산'])*100\n",
    "kospi['재고자산회전률'] = kospi['매출액']/(kospi.sort_values(by='회계년도', ascending=True).groupby('거래소코드')['재고자산'].shift(1) + kospi['재고자산'])*100\n",
    "kospi['재고자산회전기간'] = 365/kospi['재고자산회전률']*100\n",
    "kospi['매출채권회전률'] = kospi['매출액']/(kospi.sort_values(by='회계년도', ascending=True).groupby('거래소코드')['매출채권 및 기타유동채권'].shift(1) + kospi['매출채권 및 기타유동채권'])*100\n",
    "kospi['매출채권회전기간'] = 365/kospi['매출채권회전률']*100\n",
    "kospi['비유동자산회전률'] = kospi['매출액']/(kospi.sort_values(by='회계년도', ascending=True).groupby('거래소코드')['비유동자산'].shift(1) + kospi['비유동자산'])*100\n",
    "kospi['유형자산회전율'] = kospi['매출액']/(kospi.sort_values(by='회계년도', ascending=True).groupby('거래소코드')['유형자산'].shift(1) + kospi['유형자산'])*100\n",
    "kospi['비유동자산회전률'] = kospi['매출액']/(kospi.sort_values(by='회계년도', ascending=True).groupby('거래소코드')['비유동자산'].shift(1) + kospi['비유동자산'])*100\n",
    "kospi['순운전자본회전률'] = kospi['매출액']/(kospi.sort_values(by='회계년도', ascending=True).groupby('거래소코드')['순운전자본'].shift(1) + kospi['순운전자본'])*100\n",
    "kospi['1회전기간'] = kospi['매출채권회전기간'] + kospi['재고자산회전기간'] - kospi['매입채무회전기간']\n",
    "kospi['당좌자산구성비율'] = kospi['당좌자산']/kospi['자산']*100\n",
    "kospi['당좌비율'] = kospi['당좌자산']/kospi['유동부채']*100\n",
    "kospi['재고자산 대 순운전자본비율'] = kospi['재고자산']/kospi['순운전자본']*100\n",
    "kospi['재고자산증가율'] = (kospi.sort_values(by='회계년도', ascending=True).groupby('거래소코드')['재고자산'].shift(1) + kospi['재고자산'])/kospi.sort_values(by='회계년도', ascending=True).groupby('거래소코드')['재고자산'].shift(1)*100\n",
    "kospi['매출채권 대 매입채무비율'] = kospi['매출채권 및 기타유동채권']/kospi['매입채무 및 기타유동채무']*100\n",
    "kospi['매입채무 대 재고자산비율'] = kospi['매입채무 및 기타유동채무']/kospi['재고자산']*100\n",
    "kospi['단기차입금 대 총차입금비율'] = kospi['단기차입금']/(kospi['단기차입금']+kospi['장기차입금']+kospi['사채'])*100\n",
    "kospi['매출액영업이익률'] = kospi['영업손익']/kospi['매출액']*100\n",
    "kospi['총자본영업이익률'] = kospi['영업손익']/kospi['자산']*100\n",
    "kospi['자기자본영업이익률'] = kospi['영업손익']/kospi['자본']*100\n",
    "kospi['매출원가 대 매출액 비율'] = kospi['매출원가']/kospi['매출액']*100\n",
    "kospi['영업비용 대 영업수익 비율'] = kospi['판관비']/kospi['영업손익']*100\n",
    "kospi['총비용'] = kospi['매출원가']+kospi['판관비']+kospi['이자비용']+kospi['감가상각비']\n",
    "kospi['감가상각비 대 총비용비율'] = kospi['감가상각비']/kospi['총비용']*100"
   ]
  },
  {
   "cell_type": "code",
   "execution_count": 51,
   "metadata": {},
   "outputs": [
    {
     "data": {
      "text/plain": [
       "Index(['총자본증가율', '유형자산증가율', '비유동자산증가율', '유동자산증가율', '매출액증가율', '자기자본회전률',\n",
       "       '매입채무회전률', '매입채무회전기간', '유동자산회전률', '당좌자산회전률', '재고자산회전률', '재고자산회전기간',\n",
       "       '매출채권회전률', '매출채권회전기간', '비유동자산회전률', '유형자산회전율', '순운전자본회전률', '1회전기간'],\n",
       "      dtype='object')"
      ]
     },
     "execution_count": 51,
     "metadata": {},
     "output_type": "execute_result"
    }
   ],
   "source": [
    "kospi.columns[kospi.isnull().sum() == 757] # 첫년도 비율 구할 수 없어서 결측치 존재 (M_Score에서도 계산 못하기 때문에 OK)"
   ]
  },
  {
   "cell_type": "code",
   "execution_count": 52,
   "metadata": {},
   "outputs": [],
   "source": [
    "# 재고자산이 0이기 때문에 결측치 발생\n",
    "kospi[kospi['재고자산증가율'].isna()]\n",
    "kospi['재고자산증가율'] = kospi['재고자산증가율'].fillna(0.0)"
   ]
  },
  {
   "cell_type": "code",
   "execution_count": 53,
   "metadata": {},
   "outputs": [],
   "source": [
    "# 장기차입금, 단기차입금, 사채가 모두 0이기 때문에 NaN -> 0.0으로 변경\n",
    "kospi[kospi['단기차입금 대 총차입금비율'].isna()][['거래소코드', '회사명', '회계년도', '장기차입금', '단기차입금', '사채']]\n",
    "kospi['단기차입금 대 총차입금비율'] = kospi['단기차입금 대 총차입금비율'].fillna(0.0)"
   ]
  },
  {
   "cell_type": "code",
   "execution_count": 54,
   "metadata": {},
   "outputs": [],
   "source": [
    "kospi.loc[(kospi['종업원수']==0.0) | (kospi['종업원수'].isna()), '종업원수'] = kospi.sort_values(by='회계년도', ascending=True).groupby('거래소코드')['종업원수'].shift(-1)\n",
    "kospi['종업원수'].fillna(0.0, inplace=True)"
   ]
  },
  {
   "cell_type": "code",
   "execution_count": 55,
   "metadata": {},
   "outputs": [],
   "source": [
    "# OCF, 장기차입금, 단기차입금, 사채가 모두 0이기 때문에 NaN -> 0.0으로 변경\n",
    "kospi[kospi['CASH FLOW 대 차입금비율'].isna()][['거래소코드', '회사명', '회계년도', 'OCF', '장기차입금', '단기차입금', '사채']]\n",
    "kospi['CASH FLOW 대 차입금비율'] = kospi['CASH FLOW 대 차입금비율'].fillna(0.0)"
   ]
  },
  {
   "cell_type": "code",
   "execution_count": 56,
   "metadata": {},
   "outputs": [],
   "source": [
    "# 매출액, 매출총이익이 0이기 때문에 NaN -> 0.0으로 변경\n",
    "kospi[kospi['매출액총이익률'].isna()][['회사명', '거래소코드', '회계년도', '매출액', '매출총이익']]\n",
    "kospi['매출액총이익률'] = kospi['매출액총이익률'].fillna(0.0)"
   ]
  },
  {
   "cell_type": "code",
   "execution_count": 57,
   "metadata": {},
   "outputs": [],
   "source": [
    "# 매출액, 매출원가가 0이기 때문에 NaN -> 0.0으로 변경\n",
    "kospi[kospi['매출원가 대 매출액 비율'].isna()][['회사명', '거래소코드', '회계년도', '매출원가', '매출액']]\n",
    "kospi['매출원가 대 매출액 비율'] = kospi['매출원가 대 매출액 비율'].fillna(0.0)"
   ]
  },
  {
   "cell_type": "code",
   "execution_count": 58,
   "metadata": {},
   "outputs": [
    {
     "data": {
      "text/plain": [
       "array([  0, 757], dtype=int64)"
      ]
     },
     "execution_count": 58,
     "metadata": {},
     "output_type": "execute_result"
    }
   ],
   "source": [
    "kospi.isnull().sum().unique()"
   ]
  },
  {
   "cell_type": "markdown",
   "metadata": {},
   "source": [
    "#### Beneish M-Score"
   ]
  },
  {
   "cell_type": "markdown",
   "metadata": {},
   "source": [
    "M-score = −4.84 + 0.92 * DSRI + 0.528 * GMI + 0.404 * AQI + 0.892 * SGI + 0.115 * DEPI −0.172 * SGAI + 4.679 * TATA − 0.327 * LVGI"
   ]
  },
  {
   "cell_type": "code",
   "execution_count": 59,
   "metadata": {},
   "outputs": [],
   "source": [
    "def m_score(df):\n",
    "    tmp_df = df.copy()\n",
    "\n",
    "    tmp_df['DSRI_y'] = tmp_df['매출채권 및 기타유동채권'] / tmp_df['매출액']\n",
    "    tmp_df['GMI_y'] = (tmp_df['매출액'] - tmp_df['매출원가']) / tmp_df['매출액']\n",
    "    tmp_df['AQI_y'] = 1 - ( (tmp_df['유동자산'] + tmp_df['유형자산']) / tmp_df['자산'] )\n",
    "    tmp_df['SGI_y'] = tmp_df['매출액']\n",
    "    tmp_df['DEPI_y'] = tmp_df['감가상각비'] / (tmp_df['유형자산'] + tmp_df['감가상각비'])\n",
    "    tmp_df['SGAI_y'] = tmp_df['판관비'] / tmp_df['매출액']\n",
    "    tmp_df['LVGI_y'] = (tmp_df['유동부채'] + tmp_df['비유동부채 ']) / tmp_df['자산']\n",
    "\n",
    "    tmp_df.loc[tmp_df['매출액']==0.0, 'DSRI_y'] = 0.0\n",
    "    tmp_df.loc[tmp_df['매출액']==0.0, 'GMI_y'] = 0.0\n",
    "    tmp_df.loc[tmp_df['매출액']==0.0, 'SGAI_y'] = 0.0\n",
    "\n",
    "    tmp_df['DSRI'] = tmp_df['DSRI_y']/tmp_df.sort_values(by='회계년도', ascending=True).groupby('거래소코드')['DSRI_y'].shift(1)\n",
    "    tmp_df['GMI'] = tmp_df.sort_values(by='회계년도', ascending=True).groupby('거래소코드')['GMI_y'].shift(1)/tmp_df['GMI_y']\n",
    "    tmp_df['AQI'] = tmp_df['AQI_y']/tmp_df.sort_values(by='회계년도', ascending=True).groupby('거래소코드')['AQI_y'].shift(1)\n",
    "    tmp_df['SGI'] = tmp_df['SGI_y']/tmp_df.sort_values(by='회계년도', ascending=True).groupby('거래소코드')['SGI_y'].shift(1)\n",
    "    tmp_df['DEPI'] = tmp_df.sort_values(by='회계년도', ascending=True).groupby('거래소코드')['DEPI_y'].shift(1)/tmp_df['DEPI_y']\n",
    "    tmp_df['SGAI'] = tmp_df['SGAI_y']/tmp_df.sort_values(by='회계년도', ascending=True).groupby('거래소코드')['SGAI_y'].shift(1)\n",
    "    tmp_df['LVGI'] = tmp_df['LVGI_y']/tmp_df.sort_values(by='회계년도', ascending=True).groupby('거래소코드')['LVGI_y'].shift(1)\n",
    "    \n",
    "    tmp_df['TATA'] = (tmp_df['당기순이익'] - tmp_df['OCF'] - tmp_df['ICF']) / tmp_df['자산']\n",
    "\n",
    "    tmp_df.loc[tmp_df['DEPI'].isna(), 'DEPI'] = 0.0  # 감가상각비 0인 row 때문에\n",
    "    tmp_df.loc[tmp_df['DSRI']==np.inf, 'DSRI'] = 0.0\n",
    "    tmp_df.loc[tmp_df['GMI']==np.inf, 'GMI'] = 0.0\n",
    "    tmp_df.loc[tmp_df['SGI']==np.inf, 'SGI'] = 0.0\n",
    "    tmp_df.loc[tmp_df['SGAI']==np.inf, 'SGAI'] = 0.0\n",
    "\n",
    "    tmp_df['M_Score'] = -4.84 + 0.92 * tmp_df['DSRI'] + 0.528 * tmp_df['GMI'] + 0.404 * tmp_df['AQI'] + 0.892 * tmp_df['SGI'] + 0.115 * tmp_df['DEPI'] - 0.172 * tmp_df['SGAI'] + 4.679 * tmp_df['TATA'] - 0.327 * tmp_df['LVGI']\n",
    "    #df['M_Score'] = tmp_df['M_Score']\n",
    "\n",
    "    tmp_df['회계년도y_1']= (tmp_df.sort_values(by='회계년도', ascending=True).groupby('거래소코드')['회계년도'].shift(1)).fillna(-50).astype('int64')\n",
    "    tmp_df['회계년도 차'] = tmp_df['회계년도'] - tmp_df['회계년도y_1']\n",
    "    tmp_df.drop(tmp_df[tmp_df['회계년도 차']!=1].index, axis=0, inplace=True)\n",
    "\n",
    "    tmp_df.drop(['DSRI', 'GMI', 'AQI', 'SGI', 'DEPI', 'SGAI', 'LVGI', 'TATA', 'DSRI_y', 'GMI_y', 'AQI_y', 'SGI_y', 'DEPI_y', 'SGAI_y', 'LVGI_y', '회계년도y_1', '회계년도 차'], axis=1, inplace=True)\n",
    "    tmp_df.drop(tmp_df[tmp_df['M_Score']==np.inf].index, axis=0, inplace=True) # 유형자산 == 비유동자산 -> AQI의 분모가 0이라서 M_Score inf\n",
    "    return tmp_df"
   ]
  },
  {
   "cell_type": "code",
   "execution_count": 60,
   "metadata": {},
   "outputs": [
    {
     "data": {
      "text/html": [
       "<div>\n",
       "<style scoped>\n",
       "    .dataframe tbody tr th:only-of-type {\n",
       "        vertical-align: middle;\n",
       "    }\n",
       "\n",
       "    .dataframe tbody tr th {\n",
       "        vertical-align: top;\n",
       "    }\n",
       "\n",
       "    .dataframe thead th {\n",
       "        text-align: right;\n",
       "    }\n",
       "</style>\n",
       "<table border=\"1\" class=\"dataframe\">\n",
       "  <thead>\n",
       "    <tr style=\"text-align: right;\">\n",
       "      <th></th>\n",
       "      <th>거래소코드</th>\n",
       "      <th>회사명</th>\n",
       "      <th>회계년도</th>\n",
       "      <th>유동자산</th>\n",
       "      <th>비유동자산</th>\n",
       "      <th>유동부채</th>\n",
       "      <th>비유동부채</th>\n",
       "      <th>자본금</th>\n",
       "      <th>자본잉여금</th>\n",
       "      <th>기타포괄손익누계액</th>\n",
       "      <th>...</th>\n",
       "      <th>순운전자본</th>\n",
       "      <th>당좌자산</th>\n",
       "      <th>매출액영업이익률</th>\n",
       "      <th>총자본영업이익률</th>\n",
       "      <th>자기자본영업이익률</th>\n",
       "      <th>매출원가 대 매출액 비율</th>\n",
       "      <th>영업비용 대 영업수익 비율</th>\n",
       "      <th>총비용</th>\n",
       "      <th>감가상각비 대 총비용비율</th>\n",
       "      <th>M_Score</th>\n",
       "    </tr>\n",
       "  </thead>\n",
       "  <tbody>\n",
       "    <tr>\n",
       "      <th>6559</th>\n",
       "      <td>222110</td>\n",
       "      <td>(주)팬젠</td>\n",
       "      <td>2014</td>\n",
       "      <td>4029.00000</td>\n",
       "      <td>12844.00000</td>\n",
       "      <td>5554.00000</td>\n",
       "      <td>3107.00000</td>\n",
       "      <td>1443.00000</td>\n",
       "      <td>12674.00000</td>\n",
       "      <td>0.00000</td>\n",
       "      <td>...</td>\n",
       "      <td>-1525.00000</td>\n",
       "      <td>4029.00000</td>\n",
       "      <td>-59.44118</td>\n",
       "      <td>-11.97772</td>\n",
       "      <td>-24.61033</td>\n",
       "      <td>100.02941</td>\n",
       "      <td>-99.95052</td>\n",
       "      <td>7353.87000</td>\n",
       "      <td>13.25656</td>\n",
       "      <td>-266.52525</td>\n",
       "    </tr>\n",
       "    <tr>\n",
       "      <th>9005</th>\n",
       "      <td>244460</td>\n",
       "      <td>올리패스(주)</td>\n",
       "      <td>2016</td>\n",
       "      <td>15425.00000</td>\n",
       "      <td>20552.00000</td>\n",
       "      <td>14116.00000</td>\n",
       "      <td>3174.00000</td>\n",
       "      <td>5749.00000</td>\n",
       "      <td>26079.00000</td>\n",
       "      <td>0.00000</td>\n",
       "      <td>...</td>\n",
       "      <td>1309.00000</td>\n",
       "      <td>15425.00000</td>\n",
       "      <td>-433100.00000</td>\n",
       "      <td>-24.07716</td>\n",
       "      <td>-46.35556</td>\n",
       "      <td>0.00000</td>\n",
       "      <td>-100.02309</td>\n",
       "      <td>11525.07000</td>\n",
       "      <td>16.47773</td>\n",
       "      <td>-118.63073</td>\n",
       "    </tr>\n",
       "    <tr>\n",
       "      <th>1200</th>\n",
       "      <td>197210</td>\n",
       "      <td>(주)리드</td>\n",
       "      <td>2019</td>\n",
       "      <td>27454.00000</td>\n",
       "      <td>3592.00000</td>\n",
       "      <td>61994.00000</td>\n",
       "      <td>615.00000</td>\n",
       "      <td>12530.00000</td>\n",
       "      <td>93036.00000</td>\n",
       "      <td>0.00000</td>\n",
       "      <td>...</td>\n",
       "      <td>-34540.00000</td>\n",
       "      <td>26585.00000</td>\n",
       "      <td>-35.94260</td>\n",
       "      <td>-21.29743</td>\n",
       "      <td>20.94924</td>\n",
       "      <td>100.44031</td>\n",
       "      <td>-98.79008</td>\n",
       "      <td>31414.51000</td>\n",
       "      <td>2.72011</td>\n",
       "      <td>-44.09348</td>\n",
       "    </tr>\n",
       "    <tr>\n",
       "      <th>4465</th>\n",
       "      <td>091270</td>\n",
       "      <td>(주)유디피</td>\n",
       "      <td>2017</td>\n",
       "      <td>1186.00000</td>\n",
       "      <td>443.00000</td>\n",
       "      <td>21435.00000</td>\n",
       "      <td>812.00000</td>\n",
       "      <td>3669.00000</td>\n",
       "      <td>0.00000</td>\n",
       "      <td>0.00000</td>\n",
       "      <td>...</td>\n",
       "      <td>-20249.00000</td>\n",
       "      <td>1022.00000</td>\n",
       "      <td>-24.35089</td>\n",
       "      <td>-327.01044</td>\n",
       "      <td>25.83539</td>\n",
       "      <td>77.82044</td>\n",
       "      <td>-191.06439</td>\n",
       "      <td>28151.93000</td>\n",
       "      <td>0.62848</td>\n",
       "      <td>-41.60529</td>\n",
       "    </tr>\n",
       "    <tr>\n",
       "      <th>8439</th>\n",
       "      <td>900120</td>\n",
       "      <td>씨케이에이치푸드앤헬스리미티드</td>\n",
       "      <td>2018</td>\n",
       "      <td>440058.00000</td>\n",
       "      <td>120771.00000</td>\n",
       "      <td>37399.00000</td>\n",
       "      <td>0.00000</td>\n",
       "      <td>6415.00000</td>\n",
       "      <td>145290.00000</td>\n",
       "      <td>0.00000</td>\n",
       "      <td>...</td>\n",
       "      <td>402659.00000</td>\n",
       "      <td>434841.00000</td>\n",
       "      <td>-52.66067</td>\n",
       "      <td>-13.63999</td>\n",
       "      <td>-14.61456</td>\n",
       "      <td>100.50735</td>\n",
       "      <td>-99.03656</td>\n",
       "      <td>223470.91000</td>\n",
       "      <td>0.76516</td>\n",
       "      <td>-38.80356</td>\n",
       "    </tr>\n",
       "    <tr>\n",
       "      <th>...</th>\n",
       "      <td>...</td>\n",
       "      <td>...</td>\n",
       "      <td>...</td>\n",
       "      <td>...</td>\n",
       "      <td>...</td>\n",
       "      <td>...</td>\n",
       "      <td>...</td>\n",
       "      <td>...</td>\n",
       "      <td>...</td>\n",
       "      <td>...</td>\n",
       "      <td>...</td>\n",
       "      <td>...</td>\n",
       "      <td>...</td>\n",
       "      <td>...</td>\n",
       "      <td>...</td>\n",
       "      <td>...</td>\n",
       "      <td>...</td>\n",
       "      <td>...</td>\n",
       "      <td>...</td>\n",
       "      <td>...</td>\n",
       "      <td>...</td>\n",
       "    </tr>\n",
       "    <tr>\n",
       "      <th>9491</th>\n",
       "      <td>033050</td>\n",
       "      <td>제이엠아이(주)</td>\n",
       "      <td>2013</td>\n",
       "      <td>90484.00000</td>\n",
       "      <td>65238.00000</td>\n",
       "      <td>102411.00000</td>\n",
       "      <td>551.00000</td>\n",
       "      <td>32579.00000</td>\n",
       "      <td>13364.00000</td>\n",
       "      <td>1041.00000</td>\n",
       "      <td>...</td>\n",
       "      <td>-11927.00000</td>\n",
       "      <td>72808.00000</td>\n",
       "      <td>-4.69366</td>\n",
       "      <td>-7.46844</td>\n",
       "      <td>-22.04321</td>\n",
       "      <td>100.04682</td>\n",
       "      <td>-99.01118</td>\n",
       "      <td>271129.64000</td>\n",
       "      <td>3.69736</td>\n",
       "      <td>57.46702</td>\n",
       "    </tr>\n",
       "    <tr>\n",
       "      <th>7784</th>\n",
       "      <td>046400</td>\n",
       "      <td>디브이에스코리아(주)</td>\n",
       "      <td>2013</td>\n",
       "      <td>10993.00000</td>\n",
       "      <td>3783.00000</td>\n",
       "      <td>5116.00000</td>\n",
       "      <td>340.00000</td>\n",
       "      <td>9267.00000</td>\n",
       "      <td>34026.00000</td>\n",
       "      <td>0.00000</td>\n",
       "      <td>...</td>\n",
       "      <td>5877.00000</td>\n",
       "      <td>10108.00000</td>\n",
       "      <td>23.26992</td>\n",
       "      <td>5.71197</td>\n",
       "      <td>9.05677</td>\n",
       "      <td>99.86215</td>\n",
       "      <td>-99.40758</td>\n",
       "      <td>3280.07000</td>\n",
       "      <td>8.38610</td>\n",
       "      <td>61.40718</td>\n",
       "    </tr>\n",
       "    <tr>\n",
       "      <th>4325</th>\n",
       "      <td>039790</td>\n",
       "      <td>(주)위노바</td>\n",
       "      <td>2013</td>\n",
       "      <td>30850.00000</td>\n",
       "      <td>19286.00000</td>\n",
       "      <td>21018.00000</td>\n",
       "      <td>593.00000</td>\n",
       "      <td>27150.00000</td>\n",
       "      <td>19103.00000</td>\n",
       "      <td>-87.00000</td>\n",
       "      <td>...</td>\n",
       "      <td>9832.00000</td>\n",
       "      <td>23370.00000</td>\n",
       "      <td>-39.91049</td>\n",
       "      <td>-19.92221</td>\n",
       "      <td>-35.01613</td>\n",
       "      <td>99.83217</td>\n",
       "      <td>-100.43052</td>\n",
       "      <td>37878.68000</td>\n",
       "      <td>3.79813</td>\n",
       "      <td>65.08359</td>\n",
       "    </tr>\n",
       "    <tr>\n",
       "      <th>2041</th>\n",
       "      <td>011370</td>\n",
       "      <td>(주)서한</td>\n",
       "      <td>2016</td>\n",
       "      <td>342451.00000</td>\n",
       "      <td>70218.00000</td>\n",
       "      <td>173561.00000</td>\n",
       "      <td>26696.00000</td>\n",
       "      <td>50447.00000</td>\n",
       "      <td>5743.00000</td>\n",
       "      <td>-431.00000</td>\n",
       "      <td>...</td>\n",
       "      <td>168890.00000</td>\n",
       "      <td>215460.00000</td>\n",
       "      <td>17.91108</td>\n",
       "      <td>21.68203</td>\n",
       "      <td>42.12333</td>\n",
       "      <td>78.55514</td>\n",
       "      <td>19.72953</td>\n",
       "      <td>413150.20100</td>\n",
       "      <td>0.00005</td>\n",
       "      <td>78.67822</td>\n",
       "    </tr>\n",
       "    <tr>\n",
       "      <th>5267</th>\n",
       "      <td>051980</td>\n",
       "      <td>(주)중앙디앤엠</td>\n",
       "      <td>2014</td>\n",
       "      <td>16490.00000</td>\n",
       "      <td>23233.00000</td>\n",
       "      <td>4411.00000</td>\n",
       "      <td>3561.00000</td>\n",
       "      <td>9475.00000</td>\n",
       "      <td>3862.00000</td>\n",
       "      <td>0.00000</td>\n",
       "      <td>...</td>\n",
       "      <td>12079.00000</td>\n",
       "      <td>11054.00000</td>\n",
       "      <td>-22.31755</td>\n",
       "      <td>-11.52481</td>\n",
       "      <td>-14.41844</td>\n",
       "      <td>99.97563</td>\n",
       "      <td>-100.13106</td>\n",
       "      <td>26686.08000</td>\n",
       "      <td>4.94670</td>\n",
       "      <td>82.35007</td>\n",
       "    </tr>\n",
       "  </tbody>\n",
       "</table>\n",
       "<p>8837 rows × 98 columns</p>\n",
       "</div>"
      ],
      "text/plain": [
       "       거래소코드              회사명  회계년도         유동자산        비유동자산         유동부채  \\\n",
       "6559  222110            (주)팬젠  2014   4029.00000  12844.00000   5554.00000   \n",
       "9005  244460          올리패스(주)  2016  15425.00000  20552.00000  14116.00000   \n",
       "1200  197210            (주)리드  2019  27454.00000   3592.00000  61994.00000   \n",
       "4465  091270           (주)유디피  2017   1186.00000    443.00000  21435.00000   \n",
       "8439  900120  씨케이에이치푸드앤헬스리미티드  2018 440058.00000 120771.00000  37399.00000   \n",
       "...      ...              ...   ...          ...          ...          ...   \n",
       "9491  033050         제이엠아이(주)  2013  90484.00000  65238.00000 102411.00000   \n",
       "7784  046400      디브이에스코리아(주)  2013  10993.00000   3783.00000   5116.00000   \n",
       "4325  039790           (주)위노바  2013  30850.00000  19286.00000  21018.00000   \n",
       "2041  011370            (주)서한  2016 342451.00000  70218.00000 173561.00000   \n",
       "5267  051980         (주)중앙디앤엠  2014  16490.00000  23233.00000   4411.00000   \n",
       "\n",
       "          비유동부채          자본금        자본잉여금  기타포괄손익누계액  ...        순운전자본  \\\n",
       "6559  3107.00000  1443.00000  12674.00000    0.00000  ...  -1525.00000   \n",
       "9005  3174.00000  5749.00000  26079.00000    0.00000  ...   1309.00000   \n",
       "1200   615.00000 12530.00000  93036.00000    0.00000  ... -34540.00000   \n",
       "4465   812.00000  3669.00000      0.00000    0.00000  ... -20249.00000   \n",
       "8439     0.00000  6415.00000 145290.00000    0.00000  ... 402659.00000   \n",
       "...          ...         ...          ...        ...  ...          ...   \n",
       "9491   551.00000 32579.00000  13364.00000 1041.00000  ... -11927.00000   \n",
       "7784   340.00000  9267.00000  34026.00000    0.00000  ...   5877.00000   \n",
       "4325   593.00000 27150.00000  19103.00000  -87.00000  ...   9832.00000   \n",
       "2041 26696.00000 50447.00000   5743.00000 -431.00000  ... 168890.00000   \n",
       "5267  3561.00000  9475.00000   3862.00000    0.00000  ...  12079.00000   \n",
       "\n",
       "             당좌자산      매출액영업이익률   총자본영업이익률  자기자본영업이익률  매출원가 대 매출액 비율  \\\n",
       "6559   4029.00000     -59.44118  -11.97772  -24.61033      100.02941   \n",
       "9005  15425.00000 -433100.00000  -24.07716  -46.35556        0.00000   \n",
       "1200  26585.00000     -35.94260  -21.29743   20.94924      100.44031   \n",
       "4465   1022.00000     -24.35089 -327.01044   25.83539       77.82044   \n",
       "8439 434841.00000     -52.66067  -13.63999  -14.61456      100.50735   \n",
       "...           ...           ...        ...        ...            ...   \n",
       "9491  72808.00000      -4.69366   -7.46844  -22.04321      100.04682   \n",
       "7784  10108.00000      23.26992    5.71197    9.05677       99.86215   \n",
       "4325  23370.00000     -39.91049  -19.92221  -35.01613       99.83217   \n",
       "2041 215460.00000      17.91108   21.68203   42.12333       78.55514   \n",
       "5267  11054.00000     -22.31755  -11.52481  -14.41844       99.97563   \n",
       "\n",
       "      영업비용 대 영업수익 비율          총비용  감가상각비 대 총비용비율    M_Score  \n",
       "6559       -99.95052   7353.87000       13.25656 -266.52525  \n",
       "9005      -100.02309  11525.07000       16.47773 -118.63073  \n",
       "1200       -98.79008  31414.51000        2.72011  -44.09348  \n",
       "4465      -191.06439  28151.93000        0.62848  -41.60529  \n",
       "8439       -99.03656 223470.91000        0.76516  -38.80356  \n",
       "...              ...          ...            ...        ...  \n",
       "9491       -99.01118 271129.64000        3.69736   57.46702  \n",
       "7784       -99.40758   3280.07000        8.38610   61.40718  \n",
       "4325      -100.43052  37878.68000        3.79813   65.08359  \n",
       "2041        19.72953 413150.20100        0.00005   78.67822  \n",
       "5267      -100.13106  26686.08000        4.94670   82.35007  \n",
       "\n",
       "[8837 rows x 98 columns]"
      ]
     },
     "execution_count": 60,
     "metadata": {},
     "output_type": "execute_result"
    }
   ],
   "source": [
    "kosdaq_all = m_score(kosdaq)\n",
    "kosdaq_all[kosdaq_all['M_Score'].isna()==False].sort_values('M_Score')"
   ]
  },
  {
   "cell_type": "code",
   "execution_count": 61,
   "metadata": {},
   "outputs": [
    {
     "data": {
      "text/html": [
       "<div>\n",
       "<style scoped>\n",
       "    .dataframe tbody tr th:only-of-type {\n",
       "        vertical-align: middle;\n",
       "    }\n",
       "\n",
       "    .dataframe tbody tr th {\n",
       "        vertical-align: top;\n",
       "    }\n",
       "\n",
       "    .dataframe thead th {\n",
       "        text-align: right;\n",
       "    }\n",
       "</style>\n",
       "<table border=\"1\" class=\"dataframe\">\n",
       "  <thead>\n",
       "    <tr style=\"text-align: right;\">\n",
       "      <th></th>\n",
       "      <th>거래소코드</th>\n",
       "      <th>회사명</th>\n",
       "      <th>회계년도</th>\n",
       "      <th>유동자산</th>\n",
       "      <th>비유동자산</th>\n",
       "      <th>유동부채</th>\n",
       "      <th>비유동부채</th>\n",
       "      <th>자본금</th>\n",
       "      <th>자본잉여금</th>\n",
       "      <th>기타포괄손익누계액</th>\n",
       "      <th>...</th>\n",
       "      <th>순운전자본</th>\n",
       "      <th>당좌자산</th>\n",
       "      <th>매출액영업이익률</th>\n",
       "      <th>총자본영업이익률</th>\n",
       "      <th>자기자본영업이익률</th>\n",
       "      <th>매출원가 대 매출액 비율</th>\n",
       "      <th>영업비용 대 영업수익 비율</th>\n",
       "      <th>총비용</th>\n",
       "      <th>감가상각비 대 총비용비율</th>\n",
       "      <th>M_Score</th>\n",
       "    </tr>\n",
       "  </thead>\n",
       "  <tbody>\n",
       "    <tr>\n",
       "      <th>3938</th>\n",
       "      <td>001470</td>\n",
       "      <td>삼부토건(주)</td>\n",
       "      <td>2015</td>\n",
       "      <td>1316393.00000</td>\n",
       "      <td>469732.00000</td>\n",
       "      <td>1956496.00000</td>\n",
       "      <td>89257.00000</td>\n",
       "      <td>44013.00000</td>\n",
       "      <td>28316.00000</td>\n",
       "      <td>651062.00000</td>\n",
       "      <td>...</td>\n",
       "      <td>-640103.00000</td>\n",
       "      <td>1260626.00000</td>\n",
       "      <td>-11.98267</td>\n",
       "      <td>-3.54253</td>\n",
       "      <td>24.37093</td>\n",
       "      <td>100.02102</td>\n",
       "      <td>-99.82615</td>\n",
       "      <td>698570.71000</td>\n",
       "      <td>1.79319</td>\n",
       "      <td>-127.72585</td>\n",
       "    </tr>\n",
       "    <tr>\n",
       "      <th>2433</th>\n",
       "      <td>019490</td>\n",
       "      <td>(주)하이트론씨스템즈</td>\n",
       "      <td>2017</td>\n",
       "      <td>34265.00000</td>\n",
       "      <td>23617.00000</td>\n",
       "      <td>20931.00000</td>\n",
       "      <td>4272.00000</td>\n",
       "      <td>13827.00000</td>\n",
       "      <td>34677.00000</td>\n",
       "      <td>-542.00000</td>\n",
       "      <td>...</td>\n",
       "      <td>13334.00000</td>\n",
       "      <td>18867.00000</td>\n",
       "      <td>-30.36731</td>\n",
       "      <td>-19.71079</td>\n",
       "      <td>-34.91233</td>\n",
       "      <td>100.06388</td>\n",
       "      <td>-99.78964</td>\n",
       "      <td>50540.32000</td>\n",
       "      <td>2.65594</td>\n",
       "      <td>-44.12577</td>\n",
       "    </tr>\n",
       "    <tr>\n",
       "      <th>2073</th>\n",
       "      <td>006380</td>\n",
       "      <td>(주)카프로</td>\n",
       "      <td>2012</td>\n",
       "      <td>367148.00000</td>\n",
       "      <td>367488.00000</td>\n",
       "      <td>148300.00000</td>\n",
       "      <td>129330.00000</td>\n",
       "      <td>20000.00000</td>\n",
       "      <td>32384.00000</td>\n",
       "      <td>52020.00000</td>\n",
       "      <td>...</td>\n",
       "      <td>218848.00000</td>\n",
       "      <td>296558.00000</td>\n",
       "      <td>-2.51127</td>\n",
       "      <td>-3.27019</td>\n",
       "      <td>-5.25682</td>\n",
       "      <td>100.30022</td>\n",
       "      <td>-88.04529</td>\n",
       "      <td>1012678.06000</td>\n",
       "      <td>2.80514</td>\n",
       "      <td>-37.56513</td>\n",
       "    </tr>\n",
       "    <tr>\n",
       "      <th>3518</th>\n",
       "      <td>030720</td>\n",
       "      <td>동원수산(주)</td>\n",
       "      <td>2013</td>\n",
       "      <td>72891.00000</td>\n",
       "      <td>48564.00000</td>\n",
       "      <td>37213.00000</td>\n",
       "      <td>40262.00000</td>\n",
       "      <td>18744.00000</td>\n",
       "      <td>13082.00000</td>\n",
       "      <td>544.00000</td>\n",
       "      <td>...</td>\n",
       "      <td>35678.00000</td>\n",
       "      <td>35207.00000</td>\n",
       "      <td>-9.15115</td>\n",
       "      <td>-8.81232</td>\n",
       "      <td>-24.33606</td>\n",
       "      <td>100.23684</td>\n",
       "      <td>-97.41194</td>\n",
       "      <td>132588.20000</td>\n",
       "      <td>2.27335</td>\n",
       "      <td>-25.05098</td>\n",
       "    </tr>\n",
       "    <tr>\n",
       "      <th>1306</th>\n",
       "      <td>010580</td>\n",
       "      <td>(주)에스엠벡셀</td>\n",
       "      <td>2013</td>\n",
       "      <td>29430.00000</td>\n",
       "      <td>49192.00000</td>\n",
       "      <td>43078.00000</td>\n",
       "      <td>17931.00000</td>\n",
       "      <td>13856.00000</td>\n",
       "      <td>3431.00000</td>\n",
       "      <td>-4.00000</td>\n",
       "      <td>...</td>\n",
       "      <td>-13648.00000</td>\n",
       "      <td>21444.00000</td>\n",
       "      <td>-2.36289</td>\n",
       "      <td>-2.74100</td>\n",
       "      <td>-12.23598</td>\n",
       "      <td>99.89255</td>\n",
       "      <td>-104.54756</td>\n",
       "      <td>97351.79000</td>\n",
       "      <td>2.81946</td>\n",
       "      <td>-22.43221</td>\n",
       "    </tr>\n",
       "    <tr>\n",
       "      <th>...</th>\n",
       "      <td>...</td>\n",
       "      <td>...</td>\n",
       "      <td>...</td>\n",
       "      <td>...</td>\n",
       "      <td>...</td>\n",
       "      <td>...</td>\n",
       "      <td>...</td>\n",
       "      <td>...</td>\n",
       "      <td>...</td>\n",
       "      <td>...</td>\n",
       "      <td>...</td>\n",
       "      <td>...</td>\n",
       "      <td>...</td>\n",
       "      <td>...</td>\n",
       "      <td>...</td>\n",
       "      <td>...</td>\n",
       "      <td>...</td>\n",
       "      <td>...</td>\n",
       "      <td>...</td>\n",
       "      <td>...</td>\n",
       "      <td>...</td>\n",
       "    </tr>\n",
       "    <tr>\n",
       "      <th>3895</th>\n",
       "      <td>030790</td>\n",
       "      <td>비케이탑스(주)</td>\n",
       "      <td>2019</td>\n",
       "      <td>61848.00000</td>\n",
       "      <td>33655.00000</td>\n",
       "      <td>52786.00000</td>\n",
       "      <td>3540.00000</td>\n",
       "      <td>74160.00000</td>\n",
       "      <td>108933.00000</td>\n",
       "      <td>-44562.00000</td>\n",
       "      <td>...</td>\n",
       "      <td>9062.00000</td>\n",
       "      <td>61086.00000</td>\n",
       "      <td>-25.22492</td>\n",
       "      <td>-14.70859</td>\n",
       "      <td>-35.85614</td>\n",
       "      <td>100.03412</td>\n",
       "      <td>-99.86474</td>\n",
       "      <td>84913.87000</td>\n",
       "      <td>1.42600</td>\n",
       "      <td>83.18750</td>\n",
       "    </tr>\n",
       "    <tr>\n",
       "      <th>1748</th>\n",
       "      <td>000700</td>\n",
       "      <td>(주)유수홀딩스</td>\n",
       "      <td>2013</td>\n",
       "      <td>2065316.00000</td>\n",
       "      <td>8763525.00000</td>\n",
       "      <td>6196495.00000</td>\n",
       "      <td>3912440.00000</td>\n",
       "      <td>218954.00000</td>\n",
       "      <td>273973.00000</td>\n",
       "      <td>-13083.00000</td>\n",
       "      <td>...</td>\n",
       "      <td>-4131179.00000</td>\n",
       "      <td>1742162.00000</td>\n",
       "      <td>-1.99406</td>\n",
       "      <td>-1.90764</td>\n",
       "      <td>-28.69472</td>\n",
       "      <td>98.01355</td>\n",
       "      <td>-199.61806</td>\n",
       "      <td>11436007.02000</td>\n",
       "      <td>3.97665</td>\n",
       "      <td>93.43629</td>\n",
       "    </tr>\n",
       "    <tr>\n",
       "      <th>1107</th>\n",
       "      <td>134790</td>\n",
       "      <td>(주)시디즈</td>\n",
       "      <td>2014</td>\n",
       "      <td>20619.00000</td>\n",
       "      <td>2398.00000</td>\n",
       "      <td>831.00000</td>\n",
       "      <td>377.00000</td>\n",
       "      <td>1000.00000</td>\n",
       "      <td>20165.00000</td>\n",
       "      <td>0.00000</td>\n",
       "      <td>...</td>\n",
       "      <td>19788.00000</td>\n",
       "      <td>19352.00000</td>\n",
       "      <td>-4.52816</td>\n",
       "      <td>-2.12017</td>\n",
       "      <td>-2.23761</td>\n",
       "      <td>99.94433</td>\n",
       "      <td>-101.22951</td>\n",
       "      <td>11563.27000</td>\n",
       "      <td>2.57946</td>\n",
       "      <td>98.58057</td>\n",
       "    </tr>\n",
       "    <tr>\n",
       "      <th>4641</th>\n",
       "      <td>326030</td>\n",
       "      <td>에스케이바이오팜(주)</td>\n",
       "      <td>2019</td>\n",
       "      <td>98681.00000</td>\n",
       "      <td>40392.00000</td>\n",
       "      <td>145641.00000</td>\n",
       "      <td>6458.00000</td>\n",
       "      <td>32500.00000</td>\n",
       "      <td>446040.00000</td>\n",
       "      <td>-355.00000</td>\n",
       "      <td>...</td>\n",
       "      <td>-46960.00000</td>\n",
       "      <td>91948.00000</td>\n",
       "      <td>-63.99493</td>\n",
       "      <td>-56.99093</td>\n",
       "      <td>608.51440</td>\n",
       "      <td>0.41501</td>\n",
       "      <td>-255.61387</td>\n",
       "      <td>211158.92000</td>\n",
       "      <td>3.07869</td>\n",
       "      <td>99.29646</td>\n",
       "    </tr>\n",
       "    <tr>\n",
       "      <th>1815</th>\n",
       "      <td>074610</td>\n",
       "      <td>(주)이엔플러스</td>\n",
       "      <td>2017</td>\n",
       "      <td>23751.00000</td>\n",
       "      <td>28093.00000</td>\n",
       "      <td>30524.00000</td>\n",
       "      <td>7971.00000</td>\n",
       "      <td>10943.00000</td>\n",
       "      <td>23695.00000</td>\n",
       "      <td>-1813.00000</td>\n",
       "      <td>...</td>\n",
       "      <td>-6773.00000</td>\n",
       "      <td>16310.00000</td>\n",
       "      <td>-1.04745</td>\n",
       "      <td>-0.90273</td>\n",
       "      <td>-3.50588</td>\n",
       "      <td>84.07117</td>\n",
       "      <td>-1620.72650</td>\n",
       "      <td>45759.62000</td>\n",
       "      <td>0.59139</td>\n",
       "      <td>203.80451</td>\n",
       "    </tr>\n",
       "  </tbody>\n",
       "</table>\n",
       "<p>5529 rows × 98 columns</p>\n",
       "</div>"
      ],
      "text/plain": [
       "       거래소코드          회사명  회계년도          유동자산         비유동자산          유동부채  \\\n",
       "3938  001470      삼부토건(주)  2015 1316393.00000  469732.00000 1956496.00000   \n",
       "2433  019490  (주)하이트론씨스템즈  2017   34265.00000   23617.00000   20931.00000   \n",
       "2073  006380       (주)카프로  2012  367148.00000  367488.00000  148300.00000   \n",
       "3518  030720      동원수산(주)  2013   72891.00000   48564.00000   37213.00000   \n",
       "1306  010580     (주)에스엠벡셀  2013   29430.00000   49192.00000   43078.00000   \n",
       "...      ...          ...   ...           ...           ...           ...   \n",
       "3895  030790     비케이탑스(주)  2019   61848.00000   33655.00000   52786.00000   \n",
       "1748  000700     (주)유수홀딩스  2013 2065316.00000 8763525.00000 6196495.00000   \n",
       "1107  134790       (주)시디즈  2014   20619.00000    2398.00000     831.00000   \n",
       "4641  326030  에스케이바이오팜(주)  2019   98681.00000   40392.00000  145641.00000   \n",
       "1815  074610     (주)이엔플러스  2017   23751.00000   28093.00000   30524.00000   \n",
       "\n",
       "            비유동부채           자본금        자본잉여금    기타포괄손익누계액  ...          순운전자본  \\\n",
       "3938   89257.00000  44013.00000  28316.00000 651062.00000  ...  -640103.00000   \n",
       "2433    4272.00000  13827.00000  34677.00000   -542.00000  ...    13334.00000   \n",
       "2073  129330.00000  20000.00000  32384.00000  52020.00000  ...   218848.00000   \n",
       "3518   40262.00000  18744.00000  13082.00000    544.00000  ...    35678.00000   \n",
       "1306   17931.00000  13856.00000   3431.00000     -4.00000  ...   -13648.00000   \n",
       "...            ...          ...          ...          ...  ...            ...   \n",
       "3895    3540.00000  74160.00000 108933.00000 -44562.00000  ...     9062.00000   \n",
       "1748 3912440.00000 218954.00000 273973.00000 -13083.00000  ... -4131179.00000   \n",
       "1107     377.00000   1000.00000  20165.00000      0.00000  ...    19788.00000   \n",
       "4641    6458.00000  32500.00000 446040.00000   -355.00000  ...   -46960.00000   \n",
       "1815    7971.00000  10943.00000  23695.00000  -1813.00000  ...    -6773.00000   \n",
       "\n",
       "              당좌자산  매출액영업이익률  총자본영업이익률  자기자본영업이익률  매출원가 대 매출액 비율  \\\n",
       "3938 1260626.00000 -11.98267  -3.54253   24.37093      100.02102   \n",
       "2433   18867.00000 -30.36731 -19.71079  -34.91233      100.06388   \n",
       "2073  296558.00000  -2.51127  -3.27019   -5.25682      100.30022   \n",
       "3518   35207.00000  -9.15115  -8.81232  -24.33606      100.23684   \n",
       "1306   21444.00000  -2.36289  -2.74100  -12.23598       99.89255   \n",
       "...            ...       ...       ...        ...            ...   \n",
       "3895   61086.00000 -25.22492 -14.70859  -35.85614      100.03412   \n",
       "1748 1742162.00000  -1.99406  -1.90764  -28.69472       98.01355   \n",
       "1107   19352.00000  -4.52816  -2.12017   -2.23761       99.94433   \n",
       "4641   91948.00000 -63.99493 -56.99093  608.51440        0.41501   \n",
       "1815   16310.00000  -1.04745  -0.90273   -3.50588       84.07117   \n",
       "\n",
       "      영업비용 대 영업수익 비율            총비용  감가상각비 대 총비용비율    M_Score  \n",
       "3938       -99.82615   698570.71000        1.79319 -127.72585  \n",
       "2433       -99.78964    50540.32000        2.65594  -44.12577  \n",
       "2073       -88.04529  1012678.06000        2.80514  -37.56513  \n",
       "3518       -97.41194   132588.20000        2.27335  -25.05098  \n",
       "1306      -104.54756    97351.79000        2.81946  -22.43221  \n",
       "...              ...            ...            ...        ...  \n",
       "3895       -99.86474    84913.87000        1.42600   83.18750  \n",
       "1748      -199.61806 11436007.02000        3.97665   93.43629  \n",
       "1107      -101.22951    11563.27000        2.57946   98.58057  \n",
       "4641      -255.61387   211158.92000        3.07869   99.29646  \n",
       "1815     -1620.72650    45759.62000        0.59139  203.80451  \n",
       "\n",
       "[5529 rows x 98 columns]"
      ]
     },
     "execution_count": 61,
     "metadata": {},
     "output_type": "execute_result"
    }
   ],
   "source": [
    "kospi_all = m_score(kospi)\n",
    "kospi_all[kospi_all['M_Score'].isna()==False].sort_values('M_Score')"
   ]
  },
  {
   "cell_type": "markdown",
   "metadata": {},
   "source": [
    "#### 이상치 처리"
   ]
  },
  {
   "cell_type": "markdown",
   "metadata": {},
   "source": [
    "코스닥"
   ]
  },
  {
   "cell_type": "code",
   "execution_count": 62,
   "metadata": {},
   "outputs": [
    {
     "name": "stdout",
     "output_type": "stream",
     "text": [
      "유형자산증가율 1\n",
      "재고자산증가율 101\n",
      "매출채권 대 매입채무비율 8\n",
      "매입채무 대 재고자산비율 629\n",
      "이자보상배율(이자비용) 698\n",
      "CASH FLOW 대 차입금비율 1506\n",
      "매입채무회전률 7\n",
      "재고자산회전률 560\n"
     ]
    }
   ],
   "source": [
    "for i in range(len(kosdaq_all.columns)):\n",
    "    col = kosdaq_all.columns[i]\n",
    "    cnt = len( kosdaq_all[(kosdaq_all[col]==np.inf) | (kosdaq_all[col]==-np.inf)] )\n",
    "    if cnt > 0 :\n",
    "        print(col, cnt)"
   ]
  },
  {
   "cell_type": "code",
   "execution_count": 63,
   "metadata": {},
   "outputs": [],
   "source": [
    "kosdaq_all.drop(['유형자산증가율', '재고자산증가율', '매출채권 대 매입채무비율', '매입채무 대 재고자산비율', '매입채무회전률', '재고자산회전률'], axis=1, inplace=True)"
   ]
  },
  {
   "cell_type": "code",
   "execution_count": 64,
   "metadata": {},
   "outputs": [],
   "source": [
    "# 정상기업에서 inf, -inf 값은 삭제\n",
    "# kosdaq_all.drop(kosdaq_all[((kosdaq_all['이자보상배율(이자비용)'] == np.inf) | (kosdaq_all['이자보상배율(이자비용)'] == -np.inf)) & (kosdaq_all['target']==0)].index, axis=0, inplace=True)\n",
    "\n",
    "# -inf 값은 0으로 대체\n",
    "kosdaq_all.loc[kosdaq_all['이자보상배율(이자비용)'] == -np.inf, '이자보상배율(이자비용)'] = 0\n",
    "# inf 값은 이자보상배율 중 최대값으로 대체\n",
    "kosdaq_all.loc[kosdaq_all['이자보상배율(이자비용)'] == np.inf, '이자보상배율(이자비용)'] = np.nan\n",
    "kosdaq_all['이자보상배율(이자비용)'].fillna(kosdaq_all['이자보상배율(이자비용)'].max(), inplace=True)"
   ]
  },
  {
   "cell_type": "code",
   "execution_count": 65,
   "metadata": {},
   "outputs": [],
   "source": [
    "# 정상기업에서 inf, -inf 값은 삭제\n",
    "# kosdaq_all.drop(kosdaq_all[((kosdaq_all['CASH FLOW 대 차입금비율'] == np.inf) | (kosdaq_all['CASH FLOW 대 차입금비율'] == -np.inf)) & (kosdaq_all['target']==0)].index, axis=0, inplace=True)\n",
    "\n",
    "# -inf 값은 0으로 대체\n",
    "kosdaq_all.loc[kosdaq_all['CASH FLOW 대 차입금비율'] == -np.inf, 'CASH FLOW 대 차입금비율'] = 0\n",
    "# inf 값은 이자보상배율 중 최대값으로 대체\n",
    "kosdaq_all.loc[kosdaq_all['CASH FLOW 대 차입금비율'] == np.inf, 'CASH FLOW 대 차입금비율'] = np.nan\n",
    "kosdaq_all['CASH FLOW 대 차입금비율'].fillna(kosdaq_all['CASH FLOW 대 차입금비율'].max(), inplace=True)"
   ]
  },
  {
   "cell_type": "markdown",
   "metadata": {},
   "source": [
    "코스피"
   ]
  },
  {
   "cell_type": "code",
   "execution_count": 66,
   "metadata": {},
   "outputs": [
    {
     "name": "stdout",
     "output_type": "stream",
     "text": [
      "재고자산증가율 20\n",
      "매출액증가율 2\n",
      "매입채무 대 재고자산비율 131\n",
      "이자보상배율(이자비용) 215\n",
      "CASH FLOW 대 차입금비율 459\n",
      "재고자산회전률 112\n"
     ]
    }
   ],
   "source": [
    "for i in range(len(kospi_all.columns)):\n",
    "    col = kospi_all.columns[i]\n",
    "    cnt = len( kospi_all[(kospi_all[col]==np.inf) | (kospi_all[col]==-np.inf)] )\n",
    "    if cnt > 0 :\n",
    "        print(col, cnt)"
   ]
  },
  {
   "cell_type": "code",
   "execution_count": 67,
   "metadata": {},
   "outputs": [],
   "source": [
    "# 컬럼 drop\n",
    "kospi_all.drop(['재고자산증가율', '매입채무 대 재고자산비율', '재고자산회전률'], axis=1, inplace=True)\n",
    "\n",
    "# row drop\n",
    "kospi_all.drop(kospi_all[(kospi_all['매출액증가율']==np.inf) | (kospi_all['매출액증가율']==-np.inf)].index, axis=0, inplace=True)\n",
    "kospi_all.drop(kospi_all[(kospi_all['CASH FLOW 대 매출액비율']==np.inf) | (kospi_all['CASH FLOW 대 매출액비율']==-np.inf)].index, axis=0, inplace=True)"
   ]
  },
  {
   "cell_type": "code",
   "execution_count": 68,
   "metadata": {},
   "outputs": [],
   "source": [
    "# 정상기업에서 inf, -inf 값은 삭제\n",
    "# kospi_all.drop(kospi_all[((kospi_all['이자보상배율(이자비용)'] == np.inf) | (kospi_all['이자보상배율(이자비용)'] == -np.inf)) & (kospi_all['target']==0)].index, axis=0, inplace=True)\n",
    "\n",
    "# -inf 값은 0으로 대체\n",
    "kospi_all.loc[kospi_all['이자보상배율(이자비용)'] == -np.inf, '이자보상배율(이자비용)'] = 0\n",
    "# inf 값은 이자보상배율 중 최대값으로 대체\n",
    "kospi_all.loc[kospi_all['이자보상배율(이자비용)'] == np.inf, '이자보상배율(이자비용)'] = np.nan\n",
    "kospi_all['이자보상배율(이자비용)'].fillna(kospi_all['이자보상배율(이자비용)'].max(), inplace=True)"
   ]
  },
  {
   "cell_type": "code",
   "execution_count": 69,
   "metadata": {},
   "outputs": [],
   "source": [
    "# 정상기업에서 inf, -inf 값은 삭제\n",
    "# kospi_all.drop(kospi_all[((kospi_all['CASH FLOW 대 차입금비율'] == np.inf) | (kospi_all['CASH FLOW 대 차입금비율'] == -np.inf)) & (kospi_all['target']==0)].index, axis=0, inplace=True)\n",
    "\n",
    "# -inf 값은 0으로 대체\n",
    "kospi_all.loc[kospi_all['CASH FLOW 대 차입금비율'] == -np.inf, 'CASH FLOW 대 차입금비율'] = 0\n",
    "# inf 값은 이자보상배율 중 최대값으로 대체\n",
    "kospi_all.loc[kospi_all['CASH FLOW 대 차입금비율'] == np.inf, 'CASH FLOW 대 차입금비율'] = np.nan\n",
    "kospi_all['CASH FLOW 대 차입금비율'].fillna(kospi_all['CASH FLOW 대 차입금비율'].max(), inplace=True)"
   ]
  },
  {
   "cell_type": "markdown",
   "metadata": {},
   "source": [
    "#### 컬럼 drop"
   ]
  },
  {
   "cell_type": "markdown",
   "metadata": {},
   "source": [
    "절대적인 수치로는 판단하기 어려운 변수들이기 때문에 drop\n",
    "\n",
    "해당 변수들로 재무비율 계산하여 파생변수 생성\n",
    "\n",
    "-> 파생변수를 가지고 부도 예측을 하는게 더 합리적이라고 판단하였음"
   ]
  },
  {
   "cell_type": "markdown",
   "metadata": {},
   "source": [
    "코스닥"
   ]
  },
  {
   "cell_type": "code",
   "execution_count": 70,
   "metadata": {},
   "outputs": [],
   "source": [
    "log_list_daq = ['유동자산', '비유동자산', '유동부채', '비유동부채 ', '자본금',\n",
    "                '자본잉여금', '기타포괄손익누계액', '이익잉여금', '매출액', '매출원가', '매출총이익', '판관비',\n",
    "                '영업손익', '금융수익', '기타이익', '기타손실', '법인세비용', '당기순이익', '총포괄손익',\n",
    "                'ICF', 'FCF', '매출채권 및 기타유동채권', '현금및현금성자산', '유형자산', '자산',\n",
    "                '부채', '자본', '감가상각비', '재고자산', '매입채무 및 기타유동채무', '단기차입금', '장기차입금',\n",
    "                '사채', '이자비용', '순운전자본', '당좌자산', '총비용']\n",
    "kosdaq_all.drop(log_list_daq, axis=1, inplace=True)"
   ]
  },
  {
   "cell_type": "markdown",
   "metadata": {},
   "source": [
    "코스피"
   ]
  },
  {
   "cell_type": "code",
   "execution_count": 71,
   "metadata": {},
   "outputs": [],
   "source": [
    "log_list_pi = ['유동자산', '비유동자산', '유동부채', '비유동부채 ', '자본금', '자본잉여금', '기타포괄손익누계액', \n",
    "               '이익잉여금', '매출액', '매출원가', '매출총이익', '판관비', '영업손익', '금융수익', \n",
    "               '기타이익', '기타손실', '법인세비용', '당기순이익', '총포괄손익', 'ICF', 'FCF',\n",
    "               '매출채권 및 기타유동채권', '현금및현금성자산', '유형자산', '자산', '부채', '자본', '감가상각비',\n",
    "               '재고자산', '매입채무 및 기타유동채무', '단기차입금', '장기차입금', '사채', '이자비용', '순운전자본',\n",
    "               '당좌자산', '총비용']\n",
    "kospi_all.drop(log_list_pi, axis=1, inplace=True)"
   ]
  },
  {
   "cell_type": "markdown",
   "metadata": {},
   "source": [
    "#### 윈저라이징"
   ]
  },
  {
   "cell_type": "code",
   "execution_count": 72,
   "metadata": {},
   "outputs": [],
   "source": [
    "# 시각화\n",
    "\n",
    "def outliers_visual(data):\n",
    "    plt.figure(figsize=(15, 40))\n",
    "    i = 0\n",
    "    for col in cont_vars:\n",
    "        i += 1\n",
    "        plt.subplot(50, 4, i)\n",
    "        plt.boxplot(data[col])\n",
    "        plt.title('{} boxplot'.format(col))\n",
    "        i += 1\n",
    "        plt.subplot(50, 4, i)\n",
    "        plt.hist(data[col])\n",
    "        plt.title('{} histogram'.format(col))\n",
    "    plt.show()"
   ]
  },
  {
   "cell_type": "code",
   "execution_count": 73,
   "metadata": {},
   "outputs": [],
   "source": [
    "# 이상치 변환\n",
    "\n",
    "def test_wins(df, col, lower_limit=0, upper_limit=0, show_plot=True):\n",
    "    wins_data = winsorize(df[col], limits=(lower_limit, upper_limit))\n",
    "    # tmp_df[col] = wins_data\n",
    "    if show_plot == True:\n",
    "        plt.figure(figsize=(19,5))\n",
    "        plt.subplot(121)\n",
    "        plt.hist(df[col])\n",
    "        plt.title('original {}'.format(col))\n",
    "        plt.subplot(122)\n",
    "        plt.hist(wins_data)\n",
    "        plt.title('wins=({},{}) {}'.format(lower_limit, upper_limit, col))\n",
    "        plt.show()\n",
    "    return wins_data"
   ]
  },
  {
   "cell_type": "markdown",
   "metadata": {},
   "source": [
    "코스피"
   ]
  },
  {
   "cell_type": "code",
   "execution_count": 74,
   "metadata": {},
   "outputs": [],
   "source": [
    "kospi_all_wins = kospi_all.copy()\n",
    "\n",
    "kospi_col = kospi_all_wins.columns[3:]\n",
    "for i in range(len(kospi_col)):\n",
    "    col = kospi_col.values[i]\n",
    "    if col == 'target':\n",
    "        continue\n",
    "    kospi_all_wins[col] = test_wins(kospi_all_wins, col, lower_limit=0.05, upper_limit=0.05, show_plot=False)"
   ]
  },
  {
   "cell_type": "markdown",
   "metadata": {},
   "source": [
    "코스닥"
   ]
  },
  {
   "cell_type": "code",
   "execution_count": 75,
   "metadata": {},
   "outputs": [],
   "source": [
    "kosdaq_all_wins = kosdaq_all.copy()\n",
    "\n",
    "kosdaq_col = kosdaq_all_wins.columns[3:]\n",
    "for i in range(len(kosdaq_col)):\n",
    "    col = kosdaq_col.values[i]\n",
    "    if col == 'target':\n",
    "        continue\n",
    "    kosdaq_all_wins[col] = test_wins(kosdaq_all_wins, col, lower_limit=0.05, upper_limit=0.05, show_plot=False)"
   ]
  },
  {
   "cell_type": "markdown",
   "metadata": {},
   "source": [
    "#### Dataset 정리"
   ]
  },
  {
   "cell_type": "code",
   "execution_count": 76,
   "metadata": {},
   "outputs": [],
   "source": [
    "def year_drop(df_all):\n",
    "\n",
    "    df_all.drop(df_all[(df_all['회계년도+1']==2020)].index, axis=0, inplace=True)\n",
    "    df_all.drop('회계년도+1', axis=1, inplace=True)\n",
    "\n",
    "    bankruptcy_df = df_all[df_all['target']==1]['거래소코드'].unique()\n",
    "    \n",
    "    for i in range(len(bankruptcy_df)):\n",
    "        tmp_df = df_all[df_all['거래소코드']==bankruptcy_df[i]]\n",
    "        min_year = tmp_df[tmp_df['target']==1]['회계년도'].min()\n",
    "        df_all.drop(tmp_df[tmp_df['회계년도'] > min_year].index, axis=0, inplace=True)"
   ]
  },
  {
   "cell_type": "code",
   "execution_count": 77,
   "metadata": {},
   "outputs": [],
   "source": [
    "year_drop(kosdaq_all)\n",
    "year_drop(kospi_all)\n",
    "year_drop(kosdaq_all_wins)\n",
    "year_drop(kospi_all_wins)"
   ]
  },
  {
   "cell_type": "markdown",
   "metadata": {},
   "source": [
    "#### 회계 부정 dataset"
   ]
  },
  {
   "cell_type": "markdown",
   "metadata": {},
   "source": [
    "##### 코스닥"
   ]
  },
  {
   "cell_type": "code",
   "execution_count": 78,
   "metadata": {},
   "outputs": [],
   "source": [
    "kosdaq_all['M_Score'] = np.where(kosdaq_all['M_Score'] >= -2.2, 1, 0)\n",
    "kosdaq_all_wins['M_Score'] = np.where(kosdaq_all_wins['M_Score'] >= -2.2, 1, 0)"
   ]
  },
  {
   "cell_type": "code",
   "execution_count": 79,
   "metadata": {},
   "outputs": [],
   "source": [
    "kosdaq_m_score = kosdaq_all.groupby('거래소코드')['M_Score'].sum()/kosdaq_all.groupby('거래소코드')['M_Score'].count()\n",
    "\n",
    "for i in range(len(kosdaq_m_score)):\n",
    "    if kosdaq_m_score.values[i] == 0 :\n",
    "        kosdaq_all.loc[kosdaq_all['거래소코드']==kosdaq_m_score.index[i], 'M_Score'] = 0\n",
    "    else:\n",
    "        kosdaq_all.loc[kosdaq_all['거래소코드']==kosdaq_m_score.index[i], 'M_Score'] = 1"
   ]
  },
  {
   "cell_type": "code",
   "execution_count": 80,
   "metadata": {},
   "outputs": [],
   "source": [
    "kosdaq_m_score = kosdaq_all_wins.groupby('거래소코드')['M_Score'].sum()/kosdaq_all_wins.groupby('거래소코드')['M_Score'].count()\n",
    "\n",
    "for i in range(len(kosdaq_m_score)):\n",
    "    if kosdaq_m_score.values[i] == 0 :\n",
    "        kosdaq_all_wins.loc[kosdaq_all_wins['거래소코드']==kosdaq_m_score.index[i], 'M_Score'] = 0\n",
    "    else:\n",
    "        kosdaq_all_wins.loc[kosdaq_all_wins['거래소코드']==kosdaq_m_score.index[i], 'M_Score'] = 1"
   ]
  },
  {
   "cell_type": "code",
   "execution_count": 81,
   "metadata": {},
   "outputs": [
    {
     "name": "stdout",
     "output_type": "stream",
     "text": [
      "<코스닥 전체>\n",
      "\n",
      "정상 기업 수 : 1190\n",
      "정상 데이터 수 : 4971\n",
      "\n",
      "부실 기업 수 : 617\n",
      "부실 데이터 수 : 617\n"
     ]
    }
   ],
   "source": [
    "print('<코스닥 전체>\\n')\n",
    "print('정상 기업 수 :',len(kosdaq_all[(kosdaq_all['target']==0)]['거래소코드'].unique()))\n",
    "print('정상 데이터 수 :',len(kosdaq_all[(kosdaq_all['target']==0)]))\n",
    "print()\n",
    "print('부실 기업 수 :',len(kosdaq_all[(kosdaq_all['target']==1)]['거래소코드'].unique()))\n",
    "print('부실 데이터 수 :',len(kosdaq_all[(kosdaq_all['target']==1)]))"
   ]
  },
  {
   "cell_type": "code",
   "execution_count": 82,
   "metadata": {},
   "outputs": [
    {
     "name": "stdout",
     "output_type": "stream",
     "text": [
      "<회계 부정>\n",
      "\n",
      "부정 기업 수 : 1132\n",
      "부정 데이터 수 : 5213\n",
      "\n",
      "정상 기업 수 : 1067\n",
      "정상 데이터 수 : 4717\n",
      "\n",
      "부실 기업 수 : 496\n",
      "부실 데이터 수 : 496\n"
     ]
    }
   ],
   "source": [
    "print('<회계 부정>\\n')\n",
    "print('부정 기업 수 :',len(kosdaq_all[(kosdaq_all['M_Score']==1)]['거래소코드'].unique()))\n",
    "print('부정 데이터 수 :',len(kosdaq_all[(kosdaq_all['M_Score']==1)]))\n",
    "print()\n",
    "print('정상 기업 수 :',len(kosdaq_all[(kosdaq_all['M_Score']==1)&(kosdaq_all['target']==0)]['거래소코드'].unique()))\n",
    "print('정상 데이터 수 :',len(kosdaq_all[(kosdaq_all['M_Score']==1)&(kosdaq_all['target']==0)]))\n",
    "print()\n",
    "print('부실 기업 수 :',len(kosdaq_all[(kosdaq_all['M_Score']==1)&(kosdaq_all['target']==1)]['거래소코드'].unique()))\n",
    "print('부실 데이터 수 :',len(kosdaq_all[(kosdaq_all['M_Score']==1)&(kosdaq_all['target']==1)]))"
   ]
  },
  {
   "cell_type": "code",
   "execution_count": 83,
   "metadata": {},
   "outputs": [
    {
     "name": "stdout",
     "output_type": "stream",
     "text": [
      "<회계 건전>\n",
      "\n",
      "건전 기업 수 : 194\n",
      "건전 데이터 수 : 375\n",
      "\n",
      "정상 기업 수 : 123\n",
      "정상 데이터 수 : 254\n",
      "\n",
      "부실 기업 수 : 121\n",
      "부실 데이터 수 : 121\n"
     ]
    }
   ],
   "source": [
    "print('<회계 건전>\\n')\n",
    "print('건전 기업 수 :',len(kosdaq_all[(kosdaq_all['M_Score']==0)]['거래소코드'].unique()))\n",
    "print('건전 데이터 수 :',len(kosdaq_all[(kosdaq_all['M_Score']==0)]))\n",
    "print()\n",
    "print('정상 기업 수 :',len(kosdaq_all[(kosdaq_all['M_Score']==0)&(kosdaq_all['target']==0)]['거래소코드'].unique()))\n",
    "print('정상 데이터 수 :',len(kosdaq_all[(kosdaq_all['M_Score']==0)&(kosdaq_all['target']==0)]))\n",
    "print()\n",
    "print('부실 기업 수 :',len(kosdaq_all[(kosdaq_all['M_Score']==0)&(kosdaq_all['target']==1)]['거래소코드'].unique()))\n",
    "print('부실 데이터 수 :',len(kosdaq_all[(kosdaq_all['M_Score']==0)&(kosdaq_all['target']==1)]))"
   ]
  },
  {
   "cell_type": "code",
   "execution_count": 84,
   "metadata": {},
   "outputs": [],
   "source": [
    "kosdaq_good = kosdaq_all[(kosdaq_all['M_Score'] == 0)]  # M1 정상\n",
    "kosdaq_bad = kosdaq_all[(kosdaq_all['M_Score'] == 1)]  # M1 부정\n",
    "\n",
    "kosdaq_good_wins = kosdaq_all_wins[(kosdaq_all_wins['M_Score'] == 0)]  # M1 정상\n",
    "kosdaq_bad_wins = kosdaq_all_wins[(kosdaq_all_wins['M_Score'] == 1)]  # M1 부정"
   ]
  },
  {
   "cell_type": "code",
   "execution_count": 85,
   "metadata": {},
   "outputs": [],
   "source": [
    "kosdaq_all.drop('M_Score', axis=1, inplace=True)\n",
    "kosdaq_good.drop('M_Score', axis=1, inplace=True)\n",
    "kosdaq_bad.drop('M_Score', axis=1, inplace=True)\n",
    "kosdaq_all_wins.drop('M_Score', axis=1, inplace=True)\n",
    "kosdaq_good_wins.drop('M_Score', axis=1, inplace=True)\n",
    "kosdaq_bad_wins.drop('M_Score', axis=1, inplace=True)"
   ]
  },
  {
   "cell_type": "markdown",
   "metadata": {},
   "source": [
    "##### 코스피"
   ]
  },
  {
   "cell_type": "code",
   "execution_count": 86,
   "metadata": {},
   "outputs": [],
   "source": [
    "kospi_all['M_Score'] = np.where(kospi_all['M_Score'] >= -2.2, 1, 0)\n",
    "kospi_all_wins['M_Score'] = np.where(kospi_all_wins['M_Score'] >= -2.2, 1, 0)"
   ]
  },
  {
   "cell_type": "code",
   "execution_count": 87,
   "metadata": {},
   "outputs": [],
   "source": [
    "kospi_m_score = kospi_all.groupby('거래소코드')['M_Score'].sum()/kospi_all.groupby('거래소코드')['M_Score'].count()\n",
    "for i in range(len(kospi_m_score)):\n",
    "    if kospi_m_score.values[i] == 0 :\n",
    "        kospi_all.loc[kospi_all['거래소코드']==kospi_m_score.index[i], 'M_Score'] = 0\n",
    "    else:\n",
    "        kospi_all.loc[kospi_all['거래소코드']==kospi_m_score.index[i], 'M_Score'] = 1"
   ]
  },
  {
   "cell_type": "code",
   "execution_count": 88,
   "metadata": {},
   "outputs": [],
   "source": [
    "kospi_m_score = kospi_all_wins.groupby('거래소코드')['M_Score'].sum()/kospi_all_wins.groupby('거래소코드')['M_Score'].count()\n",
    "\n",
    "for i in range(len(kospi_m_score)):\n",
    "    if kospi_m_score.values[i] == 0 :\n",
    "        kospi_all_wins.loc[kospi_all_wins['거래소코드']==kospi_m_score.index[i], 'M_Score'] = 0\n",
    "    else:\n",
    "        kospi_all_wins.loc[kospi_all_wins['거래소코드']==kospi_m_score.index[i], 'M_Score'] = 1"
   ]
  },
  {
   "cell_type": "code",
   "execution_count": 89,
   "metadata": {},
   "outputs": [
    {
     "name": "stdout",
     "output_type": "stream",
     "text": [
      "<코스피 전체>\n",
      "\n",
      "정상 기업 수 : 670\n",
      "정상 데이터 수 : 3540\n",
      "\n",
      "부실 기업 수 : 273\n",
      "부실 데이터 수 : 273\n"
     ]
    }
   ],
   "source": [
    "print('<코스피 전체>\\n')\n",
    "print('정상 기업 수 :',len(kospi_all[(kospi_all['target']==0)]['거래소코드'].unique()))\n",
    "print('정상 데이터 수 :',len(kospi_all[(kospi_all['target']==0)]))\n",
    "print()\n",
    "print('부실 기업 수 :',len(kospi_all[(kospi_all['target']==1)]['거래소코드'].unique()))\n",
    "print('부실 데이터 수 :',len(kospi_all[(kospi_all['target']==1)]))"
   ]
  },
  {
   "cell_type": "code",
   "execution_count": 90,
   "metadata": {},
   "outputs": [
    {
     "name": "stdout",
     "output_type": "stream",
     "text": [
      "<회계 부정>\n",
      "\n",
      "부정 기업 수 : 610\n",
      "부정 데이터 수 : 3435\n",
      "\n",
      "정상 기업 수 : 584\n",
      "정상 데이터 수 : 3256\n",
      "\n",
      "부실 기업 수 : 179\n",
      "부실 데이터 수 : 179\n"
     ]
    }
   ],
   "source": [
    "print('<회계 부정>\\n')\n",
    "print('부정 기업 수 :',len(kospi_all[(kospi_all['M_Score']==1)]['거래소코드'].unique()))\n",
    "print('부정 데이터 수 :',len(kospi_all[(kospi_all['M_Score']==1)]))\n",
    "print()\n",
    "print('정상 기업 수 :',len(kospi_all[(kospi_all['M_Score']==1)&(kospi_all['target']==0)]['거래소코드'].unique()))\n",
    "print('정상 데이터 수 :',len(kospi_all[(kospi_all['M_Score']==1)&(kospi_all['target']==0)]))\n",
    "print()\n",
    "print('부실 기업 수 :',len(kospi_all[(kospi_all['M_Score']==1)&(kospi_all['target']==1)]['거래소코드'].unique()))\n",
    "print('부실 데이터 수 :',len(kospi_all[(kospi_all['M_Score']==1)&(kospi_all['target']==1)]))"
   ]
  },
  {
   "cell_type": "code",
   "execution_count": 91,
   "metadata": {},
   "outputs": [
    {
     "name": "stdout",
     "output_type": "stream",
     "text": [
      "<회계 정상>\n",
      "\n",
      "건전 기업 수 : 135\n",
      "건전 데이터 수 : 378\n",
      "\n",
      "정상 기업 수 : 86\n",
      "정상 데이터 수 : 284\n",
      "\n",
      "부실 기업 수 : 94\n",
      "부실 데이터 수 : 94\n"
     ]
    }
   ],
   "source": [
    "print('<회계 정상>\\n')\n",
    "print('건전 기업 수 :',len(kospi_all[(kospi_all['M_Score']==0)]['거래소코드'].unique()))\n",
    "print('건전 데이터 수 :',len(kospi_all[(kospi_all['M_Score']==0)]))\n",
    "print()\n",
    "print('정상 기업 수 :',len(kospi_all[(kospi_all['M_Score']==0)&(kospi_all['target']==0)]['거래소코드'].unique()))\n",
    "print('정상 데이터 수 :',len(kospi_all[(kospi_all['M_Score']==0)&(kospi_all['target']==0)]))\n",
    "print()\n",
    "print('부실 기업 수 :',len(kospi_all[(kospi_all['M_Score']==0)&(kospi_all['target']==1)]['거래소코드'].unique()))\n",
    "print('부실 데이터 수 :',len(kospi_all[(kospi_all['M_Score']==0)&(kospi_all['target']==1)]))"
   ]
  },
  {
   "cell_type": "code",
   "execution_count": 92,
   "metadata": {},
   "outputs": [],
   "source": [
    "kospi_good = kospi_all[(kospi_all['M_Score'] == 0)]  # M1 정상\n",
    "kospi_bad = kospi_all[(kospi_all['M_Score'] == 1)]  # M1 부정\n",
    "\n",
    "kospi_good_wins = kospi_all_wins[(kospi_all_wins['M_Score'] == 0)]  # M1 정상\n",
    "kospi_bad_wins = kospi_all_wins[(kospi_all_wins['M_Score'] == 1)]  # M1 부정"
   ]
  },
  {
   "cell_type": "code",
   "execution_count": 93,
   "metadata": {},
   "outputs": [],
   "source": [
    "kospi_all.drop('M_Score', axis=1, inplace=True)\n",
    "kospi_good.drop('M_Score', axis=1, inplace=True)\n",
    "kospi_bad.drop('M_Score', axis=1, inplace=True)\n",
    "kospi_all_wins.drop('M_Score', axis=1, inplace=True)\n",
    "kospi_good_wins.drop('M_Score', axis=1, inplace=True)\n",
    "kospi_bad_wins.drop('M_Score', axis=1, inplace=True)"
   ]
  },
  {
   "cell_type": "markdown",
   "metadata": {},
   "source": [
    "#### 부도 기업 수 확인"
   ]
  },
  {
   "cell_type": "code",
   "execution_count": 94,
   "metadata": {},
   "outputs": [],
   "source": [
    "#### 연도별 부도, 정상 기업 시각화"
   ]
  },
  {
   "cell_type": "markdown",
   "metadata": {},
   "source": [
    "#### 연도별 데이터셋 분리"
   ]
  },
  {
   "cell_type": "code",
   "execution_count": 95,
   "metadata": {},
   "outputs": [],
   "source": [
    "## golbals() -> 동적 변수 생성"
   ]
  },
  {
   "cell_type": "code",
   "execution_count": 96,
   "metadata": {},
   "outputs": [],
   "source": [
    "years = kosdaq.groupby('회계년도')\n",
    "for i in kosdaq['회계년도'].unique():\n",
    "    globals()['kosdaq_score_{}'.format(i)] = years.get_group(i)"
   ]
  },
  {
   "cell_type": "code",
   "execution_count": 97,
   "metadata": {},
   "outputs": [],
   "source": [
    "years = kospi.groupby('회계년도')\n",
    "for i in kospi['회계년도'].unique():\n",
    "    globals()['kospi_score_{}'.format(i)] = years.get_group(i)"
   ]
  },
  {
   "cell_type": "markdown",
   "metadata": {},
   "source": [
    "#### 데이터프레임 저장"
   ]
  },
  {
   "cell_type": "code",
   "execution_count": 98,
   "metadata": {},
   "outputs": [],
   "source": [
    "kosdaq_all.to_csv('./dataset/kosdaq_all.csv', encoding='utf-8', index=False)\n",
    "kosdaq_good.to_csv('./dataset/kosdaq_good.csv', encoding='utf-8', index=False)\n",
    "kosdaq_bad.to_csv('./dataset/kosdaq_bad.csv', encoding='utf-8', index=False)"
   ]
  },
  {
   "cell_type": "code",
   "execution_count": 99,
   "metadata": {},
   "outputs": [],
   "source": [
    "kospi_all.to_csv('./dataset/kospi_all.csv', encoding='utf-8', index=False)\n",
    "kospi_good.to_csv('./dataset/kospi_good.csv', encoding='utf-8', index=False)\n",
    "kospi_bad.to_csv('./dataset/kospi_bad.csv', encoding='utf-8', index=False)"
   ]
  },
  {
   "cell_type": "code",
   "execution_count": 100,
   "metadata": {},
   "outputs": [],
   "source": [
    "kosdaq_all_wins.to_csv('./dataset/kosdaq_all_wins.csv', encoding='utf-8', index=False)\n",
    "kosdaq_good_wins.to_csv('./dataset/kosdaq_good_wins.csv', encoding='utf-8', index=False)\n",
    "kosdaq_bad_wins.to_csv('./dataset/kosdaq_bad_wins.csv', encoding='utf-8', index=False)"
   ]
  },
  {
   "cell_type": "code",
   "execution_count": 101,
   "metadata": {},
   "outputs": [],
   "source": [
    "kospi_all_wins.to_csv('./dataset/kospi_all_wins.csv', encoding='utf-8', index=False)\n",
    "kospi_good_wins.to_csv('./dataset/kospi_good_wins.csv', encoding='utf-8', index=False)\n",
    "kospi_bad_wins.to_csv('./dataset/kospi_bad_wins.csv', encoding='utf-8', index=False)"
   ]
  }
 ],
 "metadata": {
  "kernelspec": {
   "display_name": "Python 3.10.4 64-bit",
   "language": "python",
   "name": "python3"
  },
  "language_info": {
   "codemirror_mode": {
    "name": "ipython",
    "version": 3
   },
   "file_extension": ".py",
   "mimetype": "text/x-python",
   "name": "python",
   "nbconvert_exporter": "python",
   "pygments_lexer": "ipython3",
   "version": "3.10.4"
  },
  "orig_nbformat": 4,
  "vscode": {
   "interpreter": {
    "hash": "a0e1a72cc3f286b5e1823aeaff197746ac050c8c5ae7866db42f07c85c3611bc"
   }
  }
 },
 "nbformat": 4,
 "nbformat_minor": 2
}
